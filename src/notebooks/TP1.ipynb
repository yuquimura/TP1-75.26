{
 "cells": [
  {
   "cell_type": "markdown",
   "id": "7368f20d",
   "metadata": {},
   "source": [
    "# TP 1\n",
    "\n",
    "## Ejercicio 1\n",
    "Implementar un Generador Congruencial Lineal (GCL) de módulo 232 , multiplicador 1013904223,\n",
    "incremento de 1664525 y semilla igual a la parte entera del promedio de los números de padrón\n",
    "de los integrantes del grupo.\n",
    "* Modificar el GCL implementado para obtener números al azar entre 0 y 1\n",
    "* Realizar los gráficos que considere adecuados para mostrar las distribuciones de números\n",
    "al azar generados en ambos casos"
   ]
  },
  {
   "cell_type": "markdown",
   "id": "79938172",
   "metadata": {},
   "source": [
    "### Resolución\n",
    "\n",
    "El codigo anterior muestra la implementacion de un GLC propuesta por el grupo"
   ]
  },
  {
   "cell_type": "code",
   "execution_count": 113,
   "id": "6332663e",
   "metadata": {},
   "outputs": [],
   "source": [
    "from collections import Counter\n",
    "import numpy as np\n",
    "\n",
    "import matplotlib.pyplot as plt\n",
    "\n",
    "\n",
    "class GLC:\n",
    "\n",
    "    def __init__(self, module, multiplier, seed, increment):\n",
    "        self.modNumber = module\n",
    "        self.scalarNumber = multiplier\n",
    "        self.first = seed\n",
    "        self.constant = increment\n",
    "        self.actual = self.first\n",
    "\n",
    "    def calculate_random(self):\n",
    "        new_actual = ((self.actual * self.scalarNumber) + self.constant) % self.modNumber\n",
    "        self.actual = new_actual\n",
    "        return new_actual\n",
    "\n",
    "    def calculate_random_uniform(self):\n",
    "        return (self.calculate_random()) / self.modNumber\n",
    "\n",
    "    def calculate_multiple_random_uniform(self, iterations):\n",
    "        values = []\n",
    "        for i in range(iterations):\n",
    "            value = self.calculate_random_uniform()\n",
    "            values.append(value)\n",
    "        return values\n",
    "    \n",
    "    def calculate_multiple_random(self, iterations):\n",
    "        values = []\n",
    "        for i in range(iterations):\n",
    "            value = self.calculate_random()\n",
    "            values.append(value)\n",
    "        return values\n",
    "    \n",
    "    def calculate_multiple_random_with_range(self, iterations, _min, _max):\n",
    "        values = []\n",
    "        for i in range(iterations):\n",
    "            value = self.calculate_random() % 7\n",
    "            while (value > _max) or (_min > value):\n",
    "                value = self.calculate_random() % 7\n",
    "            values.append(value)\n",
    "        return values\n",
    "    \n",
    "    def gt_than_before(self, dic, value):\n",
    "        for i in range(value):\n",
    "            if dic[value] <  dic[i]:\n",
    "                return False\n",
    "        return True\n",
    "    \n",
    "    def smaller_than_further(self, dic, value, top):\n",
    "        for i in range(value+1, top + 1):\n",
    "            if dic[value] > dic[i]:\n",
    "                return False\n",
    "        return True\n",
    "    \n",
    "    def calculate_multiple_random_with_module(self, iterations):\n",
    "        values = []\n",
    "        dic = {0:0, 1:0, 2:0, 3:0, 4:0, 5:0, 6:0, 7:0, 8:0}\n",
    "        contador = 0\n",
    "        while (contador != iterations):\n",
    "            value = self.calculate_random()\n",
    "            if value == 0:\n",
    "                if (dic[1] >= dic[0]):\n",
    "                    values.append(value)\n",
    "                    dic[value] += 1\n",
    "                    contador += 1\n",
    "            elif value == 8:\n",
    "                if (dic[8] >= dic[7]):\n",
    "                    values.append(value)\n",
    "                    dic[value] += 1\n",
    "                    contador += 1\n",
    "            elif self.gt_than_before(dic, value) and self.smaller_than_further(dic, value, 8):\n",
    "                values.append(value)\n",
    "                dic[value] += 1\n",
    "                contador += 1\n",
    "        print(dic)\n",
    "        return values\n",
    "\n",
    "    def create_plot_uniform(self, quantity):\n",
    "        random_values = self.calculate_multiple_random_uniform(quantity)\n",
    "        num_bins = 9\n",
    "        plt.hist(random_values, num_bins, facecolor='blue', alpha=0.5, ec='black')\n",
    "        plt.show()\n",
    "    \n",
    "    def create_plot(self, quantity):\n",
    "        random_values = self.calculate_multiple_random(quantity)\n",
    "        num_bins = 10\n",
    "        plt.hist(random_values, num_bins, facecolor='blue', alpha=0.5, ec='black')\n",
    "        plt.show()\n",
    "        \n",
    "    def create_plot_with_difference(self, data):\n",
    "        _counter = Counter({2:2730, 3:5200, 4:1730, 5:480, 6:220})\n",
    "        _data_given = [2] * 2730\n",
    "        _data_given += [3] * 5200\n",
    "        _data_given += [4] * 1730\n",
    "        _data_given += [5] * 480\n",
    "        _data_given += [6] * 220\n",
    "        num_bins = 5\n",
    "        plt.figure(figsize=(8,6))\n",
    "        plt.hist(_data_given, bins=num_bins, alpha=0.5, label=\"data1\")\n",
    "        plt.hist(data, bins=num_bins, alpha=0.5, ec='black', label='data2')\n",
    "        plt.show()\n",
    "    \n",
    "    def create_counter(self, iterations, possible_numbers):\n",
    "        random_values = self.calculate_multiple_random(iterations)\n",
    "        counter = Counter(random_values)\n",
    "        if len(counter) != possible_numbers:\n",
    "            return None\n",
    "        if len(set(counter.values())) != possible_numbers:\n",
    "            return None\n",
    "        return counter\n",
    "    \n",
    "    def plot_counter(self, data):\n",
    "        density, bins, _ = plt.hist(data, density=True, bins=20)\n",
    "        count, _ = np.histogram(data, bins)\n",
    "        for x,y,num in zip(bins, density, count):\n",
    "            if num != 0:\n",
    "                plt.text(x, y+0.05, num, fontsize=10, rotation=-90) # x,y,str\n",
    "                \n",
    "    def chequear_dif(self, data):\n",
    "        counter = Counter(data)\n",
    "        for i in [2,3,4,5,6]:\n",
    "            if not i in counter.keys():\n",
    "                return 10000\n",
    "        score = abs(2730 - counter[2])\n",
    "        score += abs(5200 - counter[3])\n",
    "        score += abs(1730 - counter[4])\n",
    "        score += abs(480 - counter[5])\n",
    "        score += abs(220 - counter[6])\n",
    "        return score\n",
    "\n"
   ]
  },
  {
   "cell_type": "markdown",
   "id": "b6dceae2",
   "metadata": {},
   "source": [
    "A continuacion, se muestran distintos ejemplos con diferentes numeros de iteraciones para distribución no uniforme"
   ]
  },
  {
   "cell_type": "code",
   "execution_count": 41,
   "id": "4d0522e7",
   "metadata": {},
   "outputs": [],
   "source": [
    "_seed = (98541 + 100033 + 95282 + 94839) / 4\n",
    "glc = GLC(module=232, \n",
    "          multiplier=1013904223,\n",
    "          seed=97174, \n",
    "          increment=1664525)"
   ]
  },
  {
   "cell_type": "code",
   "execution_count": 42,
   "id": "c75a074d",
   "metadata": {},
   "outputs": [
    {
     "data": {
      "image/png": "[encoded data removed]",
      "text/plain": [
       "<Figure size 432x288 with 1 Axes>"
      ]
     },
     "metadata": {
      "needs_background": "light"
     },
     "output_type": "display_data"
    }
   ],
   "source": [
    "glc.create_plot(10000)"
   ]
  },
  {
   "cell_type": "code",
   "execution_count": 43,
   "id": "340f6f79",
   "metadata": {},
   "outputs": [
    {
     "data": {
      "image/png": "[encoded data removed]",
      "text/plain": [
       "<Figure size 432x288 with 1 Axes>"
      ]
     },
     "metadata": {
      "needs_background": "light"
     },
     "output_type": "display_data"
    }
   ],
   "source": [
    "glc.create_plot(10349)"
   ]
  },
  {
   "cell_type": "code",
   "execution_count": 44,
   "id": "808e61f9",
   "metadata": {},
   "outputs": [
    {
     "data": {
      "image/png": "[encoded data removed]",
      "text/plain": [
       "<Figure size 432x288 with 1 Axes>"
      ]
     },
     "metadata": {
      "needs_background": "light"
     },
     "output_type": "display_data"
    }
   ],
   "source": [
    "glc.create_plot(348)"
   ]
  },
  {
   "cell_type": "markdown",
   "id": "a4c6b656",
   "metadata": {},
   "source": [
    "A continuacion, se muestran distintos ejemplos con diferentes numeros de iteraciones para distribución uniforme"
   ]
  },
  {
   "cell_type": "code",
   "execution_count": 45,
   "id": "633a9d9a",
   "metadata": {},
   "outputs": [
    {
     "data": {
      "image/png": "[encoded data removed]",
      "text/plain": [
       "<Figure size 432x288 with 1 Axes>"
      ]
     },
     "metadata": {
      "needs_background": "light"
     },
     "output_type": "display_data"
    }
   ],
   "source": [
    "glc.create_plot_uniform(100000)"
   ]
  },
  {
   "cell_type": "code",
   "execution_count": 46,
   "id": "87a18817",
   "metadata": {},
   "outputs": [
    {
     "data": {
      "image/png": "[encoded data removed]",
      "text/plain": [
       "<Figure size 432x288 with 1 Axes>"
      ]
     },
     "metadata": {
      "needs_background": "light"
     },
     "output_type": "display_data"
    }
   ],
   "source": [
    "glc.create_plot_uniform(12341)"
   ]
  },
  {
   "cell_type": "code",
   "execution_count": 47,
   "id": "5c2b8703",
   "metadata": {},
   "outputs": [
    {
     "data": {
      "image/png": "[encoded data removed]",
      "text/plain": [
       "<Figure size 432x288 with 1 Axes>"
      ]
     },
     "metadata": {
      "needs_background": "light"
     },
     "output_type": "display_data"
    }
   ],
   "source": [
    "glc.create_plot_uniform(348)"
   ]
  },
  {
   "cell_type": "markdown",
   "id": "6f24f461",
   "metadata": {},
   "source": [
    "## Ejercicio 2\n",
    "\n",
    "Dada una variable aleatoria X se generaron 10.000 muestras y se obtuvo el siguiente histograma\n",
    "\n",
    "* Utilizando el GCL implementado en el Ejercicio 1 a), desarrollar un algoritmo para generar 100.000 muestras de la variable X\n",
    "* Proponer un test para evaluar si las muestras generadas en el ítem a) siguen la distribución esperada. Considerar distintos tamaños de muestra.\n",
    "\n",
    "### Resolución\n",
    "\n",
    "Se utiliza la misma implementación de GLC utilizada en el primer ejercicio"
   ]
  },
  {
   "cell_type": "markdown",
   "id": "d0f09344",
   "metadata": {},
   "source": [
    "Sabiendo que las reglas son\n",
    "\n",
    "* module > 0 \n",
    "* 0<multiplier<module\n",
    "* 0<=increment<module \n",
    "* 0<=seed<module"
   ]
  },
  {
   "cell_type": "code",
   "execution_count": 48,
   "id": "4f5b5736",
   "metadata": {},
   "outputs": [
    {
     "name": "stdout",
     "output_type": "stream",
     "text": [
      "11\n",
      "191\n",
      "260\n",
      "260\n"
     ]
    },
    {
     "data": {
      "image/png": "[encoded data removed]",
      "text/plain": [
       "<Figure size 576x432 with 1 Axes>"
      ]
     },
     "metadata": {
      "needs_background": "light"
     },
     "output_type": "display_data"
    }
   ],
   "source": [
    "glc = GLC(module=13, \n",
    "          multiplier=1013904223,\n",
    "          seed=97174, \n",
    "          increment=10)\n",
    "a = glc.calculate_multiple_random_with_range(10000,2, 7)\n",
    "\n",
    "def xx():\n",
    "    glc = None\n",
    "    dif = 10000\n",
    "    module = 10\n",
    "    for i in range(10, 270):\n",
    "        new_glc = GLC(module=i, multiplier=1013904223, seed=97174, increment=10)\n",
    "        data = new_glc.calculate_multiple_random_with_range(10000,2, 7)\n",
    "        new_dif = new_glc.chequear_dif(data)\n",
    "        if dif > new_dif:\n",
    "            glc = new_glc\n",
    "            dif = new_dif\n",
    "            module = i\n",
    "            print(module)\n",
    "    print(module)\n",
    "    return glc\n",
    "        \n",
    "glc = xx()\n",
    "a = glc.calculate_multiple_random_with_range(10000,2, 7)\n",
    "glc.create_plot_with_difference(a)"
   ]
  },
  {
   "cell_type": "code",
   "execution_count": 49,
   "id": "a49a5a45",
   "metadata": {},
   "outputs": [
    {
     "data": {
      "image/png": "[encoded data removed]",
      "text/plain": [
       "<Figure size 432x288 with 1 Axes>"
      ]
     },
     "metadata": {
      "needs_background": "light"
     },
     "output_type": "display_data"
    }
   ],
   "source": [
    "glc = GLC(module=260, multiplier=1013904223, seed=97174, increment=10)\n",
    "data = glc.calculate_multiple_random_with_range(100000, 2, 7)\n",
    "glc.plot_counter(data)"
   ]
  },
  {
   "cell_type": "markdown",
   "id": "b3d394fa",
   "metadata": {},
   "source": [
    "## Ejercicio 3\n",
    "\n",
    "Implementar un método para generar variables aleatorias con distribución normal de media 15 y desvío 2.\n",
    "\n",
    "* Generar 100.000 muestras, calcular la media y la varianza de la distribución obtenida y\n",
    "comparar con los valores teóricos.\n",
    "* Calcular el factor de rendimiento del método propuesto.\n",
    "* Mostrar gráficamente la distribución que siguen las muestras generadas.\n",
    "* Proponer un test para verificar si los números generados siguen la distribución pedida.\n",
    "\n",
    "### Resolución\n",
    "\n",
    "Para este ejercicio usaremos el método de Aceptación - Rechazo"
   ]
  },
  {
   "cell_type": "code",
   "execution_count": 50,
   "id": "b2f4d8fe",
   "metadata": {},
   "outputs": [],
   "source": [
    "import random\n",
    "import math\n",
    "from matplotlib import pyplot as plt\n",
    "from scipy.stats import norm\n",
    "import numpy as np"
   ]
  },
  {
   "cell_type": "code",
   "execution_count": 51,
   "id": "5d56f10e",
   "metadata": {},
   "outputs": [],
   "source": [
    "media = 15 # dato del enunciado\n",
    "desvio = 2 # dato del enunciado\n",
    "muestras = 100_000 # dato del enunciado\n",
    "c = 1.3 # es fx/fy que maximiza el cociente"
   ]
  },
  {
   "cell_type": "code",
   "execution_count": 52,
   "id": "3e2fef47",
   "metadata": {},
   "outputs": [],
   "source": [
    "resultados = []\n",
    "\n",
    "def cociente(t):\n",
    "    # es la division de fx/c*fy\n",
    "    return (1 / math.sqrt(2 * math.pi)) * math.exp(t - (t**2 / 2)) * 1/c\n",
    "\n",
    "for i in range(muestras):\n",
    "    t = random.expovariate(1) # muestra exponencial de media 1\n",
    "    u = random.random()\n",
    "    if u < cociente(t):\n",
    "        u2 = random.random()\n",
    "        if u2 < 0.5:\n",
    "            resultados.append(t)\n",
    "        else:\n",
    "            resultados.append(-t)"
   ]
  },
  {
   "cell_type": "code",
   "execution_count": 53,
   "id": "9382160e",
   "metadata": {},
   "outputs": [],
   "source": [
    "# Aplicamos transformacion de Normal std a lo pedido\n",
    "transformada = [r * desvio + media for r in resultados]"
   ]
  },
  {
   "cell_type": "code",
   "execution_count": 54,
   "id": "077f1c7b",
   "metadata": {},
   "outputs": [
    {
     "name": "stdout",
     "output_type": "stream",
     "text": [
      "Esperanza real: 15 - Esperanza simulada: 14.9964942849175\n",
      "Varianza real: 4 - Varianza simulada: 3.983732488931704\n"
     ]
    }
   ],
   "source": [
    "print(f'Esperanza real: {media} - Esperanza simulada: {np.mean(transformada)}')\n",
    "print(f'Varianza real: {desvio**2} - Varianza simulada: {np.var(transformada)}')\n"
   ]
  },
  {
   "cell_type": "code",
   "execution_count": 55,
   "id": "b7960186",
   "metadata": {},
   "outputs": [
    {
     "data": {
      "image/png": "[encoded data removed]",
      "text/plain": [
       "<Figure size 432x288 with 1 Axes>"
      ]
     },
     "metadata": {
      "needs_background": "light"
     },
     "output_type": "display_data"
    }
   ],
   "source": [
    "# Creo la normal real para plotear la curva y comparar\n",
    "x_real = np.linspace(norm.ppf(0.001, media, desvio), norm.ppf(0.999, media, desvio), 100)\n",
    "fig, ax = plt.subplots(1, 1)\n",
    "\n",
    "y_real = norm(media, desvio)\n",
    "ax.plot(x_real, y_real.pdf(x_real), 'k-', lw = 2)\n",
    "\n",
    "ax.hist(transformada, 100, density=True)\n",
    "plt.show()"
   ]
  },
  {
   "cell_type": "markdown",
   "id": "3212c4e5",
   "metadata": {},
   "source": [
    "Para verificar si los numeros generados siguen la distribución pedida se puede usar un test de frecuencia, ya que estos tests justamente buscan comprobar que los numeros generados se distribuyan siguiendo la función de probabilidad esperada."
   ]
  },
  {
   "cell_type": "code",
   "execution_count": 56,
   "id": "9f7fb96e",
   "metadata": {},
   "outputs": [
    {
     "data": {
      "text/plain": [
       "[13.029118953196724,\n",
       " 18.222799021939956,\n",
       " 14.613832904323974,\n",
       " 14.500423420953847,\n",
       " 17.233161097440338,\n",
       " 15.073013112457202,\n",
       " 13.143656318686212,\n",
       " 15.070789896062543,\n",
       " 20.506812285446983,\n",
       " 18.240242631189037]"
      ]
     },
     "execution_count": 56,
     "metadata": {},
     "output_type": "execute_result"
    }
   ],
   "source": [
    "transformada[0:10]"
   ]
  },
  {
   "cell_type": "markdown",
   "id": "7d5de340",
   "metadata": {},
   "source": [
    "## Ejercicio 4\n",
    "\n",
    "La llegada de vehículos a un estacionamiento sigue un proceso de Poisson de tasa λ\n",
    "vehículos/hora. En el trabajo práctico se incluye un archivo con números pseudoaleatorios que\n",
    "representan los tiempos entre arribos de dichos vehículos.\n",
    "\n",
    "* Realice una estimación de la tasa de arribos y proponga un test para evaluar si los números pseudoaleatorios provistos siguen la distribución esperada.\n",
    "* Utilizando el GCL implementado en el Ejercicio 1 a) simular la llegada de vehículos durante un mes. Graficar la cantidad de arribos en función del tiempo.\n",
    "* Generar 1000 realizaciones del proceso de Poisson para estimar las siguientes probabilidades:\n",
    "1. Probabilidad que el primer vehículo arribe antes de los 10 minutos.\n",
    "2. Probabilidad que el undécimo vehículo arribe después de los 60 minutos.\n",
    "3. Probabilidad que arriben al menos 750 vehículos antes de las 72 horas.\n",
    "Comparar con los valores teóricos."
   ]
  },
  {
   "cell_type": "code",
   "execution_count": 57,
   "id": "8be6e7af",
   "metadata": {},
   "outputs": [
    {
     "name": "stdout",
     "output_type": "stream",
     "text": [
      "Estimación en minutos: 6.067196631701471\n"
     ]
    },
    {
     "data": {
      "image/png": "[encoded data removed]",
      "text/plain": [
       "<Figure size 432x288 with 1 Axes>"
      ]
     },
     "metadata": {
      "needs_background": "light"
     },
     "output_type": "display_data"
    },
    {
     "data": {
      "image/png": "[encoded data removed]",
      "text/plain": [
       "<Figure size 432x288 with 1 Axes>"
      ]
     },
     "metadata": {
      "needs_background": "light"
     },
     "output_type": "display_data"
    }
   ],
   "source": [
    "# Buscamos primero el valor promedio\n",
    "def valor_promedio():    \n",
    "    with open('message.txt', 'r') as file:\n",
    "        suma = 0\n",
    "        cantidad_de_numeros = 0\n",
    "        for valor in file:\n",
    "            suma += float(valor) * 60\n",
    "            cantidad_de_numeros +=1\n",
    "        return suma / cantidad_de_numeros\n",
    "\n",
    "valor_promedio = valor_promedio()\n",
    "print(f'Estimación en minutos: {valor_promedio}')\n",
    "\n",
    "# Ahora graficamos el proceso de Poisson con el lambda obtenido\n",
    "from numpy import random\n",
    "import matplotlib.pyplot as plt\n",
    "\n",
    "poisson = random.poisson(lam=valor_promedio, size=10000)\n",
    "count, bins, ignored = plt.hist(poisson, 14, density=True)\n",
    "plt.show()\n",
    "\n",
    "# Graficamos el archivo\n",
    "\n",
    "with open('message.txt', 'r') as file:\n",
    "    values = []\n",
    "    for valor in file:\n",
    "        values.append(float(valor) * 60)\n",
    "    count, bins, ignored = plt.hist(values, 20, density=True)\n",
    "    plt.show()\n"
   ]
  },
  {
   "cell_type": "markdown",
   "id": "a69abdaf",
   "metadata": {},
   "source": [
    "A partir de los gráficos mostrados vemos que los valores dados no cumplen una distribución de Poisson.\n",
    "### Propuesta de Test\n",
    "Para no realizar esta comprobación manualmente, proponemos el siguiente algoritmo:\n",
    "* Se compara cada bin con su contraparte\n",
    "* Se penaliza cada uno de los puntos que no coinciden\n",
    "* Finalmente la suma de estos sobre el total de puntos es el porcentaje de error.\n",
    "* Con este número se debería determinar que rango de valores es aceptable para la distribución."
   ]
  },
  {
   "cell_type": "markdown",
   "id": "ab6f6e5f",
   "metadata": {},
   "source": [
    "### Simulación con GCL"
   ]
  },
  {
   "cell_type": "code",
   "execution_count": 115,
   "id": "933c3402",
   "metadata": {},
   "outputs": [
    {
     "name": "stdout",
     "output_type": "stream",
     "text": [
      "{0: 2, 1: 1, 2: 0, 3: 0, 4: 0, 5: 0, 6: 0, 7: 0, 8: 997}\n"
     ]
    },
    {
     "data": {
      "image/png": "[encoded data removed]",
      "text/plain": [
       "<Figure size 432x288 with 1 Axes>"
      ]
     },
     "metadata": {
      "needs_background": "light"
     },
     "output_type": "display_data"
    }
   ],
   "source": [
    "_seed = (98541 + 100033 + 95282 + 94839) / 4\n",
    "glc = GLC(module=9, \n",
    "          multiplier=4,\n",
    "          seed=0, \n",
    "          increment=1)\n",
    "dist = glc.calculate_multiple_random_with_module(1000)\n",
    "count, bins, ignored = plt.hist(dist, 20, density=True)\n",
    "plt.show()\n"
   ]
  },
  {
   "cell_type": "markdown",
   "id": "114d9eab",
   "metadata": {},
   "source": [
    "### Simulaciones con Poisson"
   ]
  },
  {
   "cell_type": "code",
   "execution_count": 114,
   "id": "dcc5bacd",
   "metadata": {},
   "outputs": [
    {
     "name": "stdout",
     "output_type": "stream",
     "text": [
      "Probabilidad que el primer vehículo arribe antes de los 10 minutos:\n",
      "La probabilidad de que arribe antes de los 10 minutos es 90.7%\n",
      "Probabilidad que el undécimo vehículo arribe después de los 60 minutos.\n",
      "Counter({6: 173, 5: 153, 7: 145, 4: 120, 8: 113, 3: 88, 9: 59, 10: 47, 2: 38, 11: 19, 1: 16, 12: 15, 13: 5, 15: 4, 14: 3, 0: 2})\n",
      "Probabilidad que arriben al menos 750 vehículos antes de las 72 horas.\n"
     ]
    }
   ],
   "source": [
    "from collections import Counter\n",
    "\n",
    "#1. Probabilidad que el primer vehículo arribe antes de los 10 minutos.\n",
    "print('Probabilidad que el primer vehículo arribe antes de los 10 minutos:')\n",
    "poisson = random.poisson(lam=6.06, size=1000)\n",
    "contador = 0\n",
    "for espera, repeticiones in Counter(poisson).items():\n",
    "    if espera < 10:\n",
    "        contador += repeticiones\n",
    "        \n",
    "print(f'La probabilidad de que arribe antes de los 10 minutos es {contador / 10}%')\n",
    "\n",
    "\n",
    "#2. Probabilidad que el undécimo vehículo arribe después de los 60 minutos.\n",
    "print('Probabilidad que el undécimo vehículo arribe después de los 60 minutos.')\n",
    "print(Counter(poisson))\n",
    "\n",
    "\n",
    "#3. Probabilidad que arriben al menos 750 vehículos antes de las 72 horas.\n",
    "print('Probabilidad que arriben al menos 750 vehículos antes de las 72 horas.')"
   ]
  },
  {
   "cell_type": "markdown",
   "id": "4f132a62",
   "metadata": {},
   "source": [
    "## Ejercicio 5\n",
    "\n",
    "Basados en el trabajo “Using Cellular Automata to Investigate Pedestrian Conflicts with Vehicles in\n",
    "Crosswalk at Signalized Intersection”, de Xiaomeng Li, Xuedong Yan, Xingang Li, y Jiangfeng Wang\n",
    "realizar lo siguiente:\n",
    "* Simular al menos 2 escenarios planteados en el trabajo y comparar sus resultados.\n",
    "* Proponer al menos 2 modificaciones a los escenarios planteados para peatones, autos, semáforos y arterias de circulación, simularlas y comparar estos resultados con los del ítem anterior.\n",
    "* Realizar los gráficos que se consideren necesarios para mostrar los resultados\n",
    "* Seleccionar un escenario de los simulados y realizar una animación."
   ]
  },
  {
   "cell_type": "code",
   "execution_count": null,
   "id": "5e4fe28b",
   "metadata": {},
   "outputs": [],
   "source": []
  },
  {
   "cell_type": "code",
   "execution_count": null,
   "id": "e7db352a",
   "metadata": {},
   "outputs": [],
   "source": []
  },
  {
   "cell_type": "code",
   "execution_count": null,
   "id": "2b2ff2e2",
   "metadata": {},
   "outputs": [],
   "source": []
  }
 ],
 "metadata": {
  "kernelspec": {
   "display_name": "Python 3 (ipykernel)",
   "language": "python",
   "name": "python3"
  },
  "language_info": {
   "codemirror_mode": {
    "name": "ipython",
    "version": 3
   },
   "file_extension": ".py",
   "mimetype": "text/x-python",
   "name": "python",
   "nbconvert_exporter": "python",
   "pygments_lexer": "ipython3",
   "version": "3.8.10"
  }
 },
 "nbformat": 4,
 "nbformat_minor": 5
}
