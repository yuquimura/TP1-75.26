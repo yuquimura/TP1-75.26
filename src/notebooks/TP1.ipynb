{
 "cells": [
  {
   "cell_type": "markdown",
   "id": "7368f20d",
   "metadata": {},
   "source": [
    "# TP 1\n",
    "\n",
    "## Ejercicio 1\n",
    "Implementar un Generador Congruencial Lineal (GCL) de módulo 232 , multiplicador 1013904223,\n",
    "incremento de 1664525 y semilla igual a la parte entera del promedio de los números de padrón\n",
    "de los integrantes del grupo.\n",
    "* Modificar el GCL implementado para obtener números al azar entre 0 y 1\n",
    "* Realizar los gráficos que considere adecuados para mostrar las distribuciones de números\n",
    "al azar generados en ambos casos"
   ]
  },
  {
   "cell_type": "markdown",
   "id": "79938172",
   "metadata": {},
   "source": [
    "### Resolución\n",
    "\n",
    "El codigo anterior muestra la implementacion de un GLC propuesta por el grupo"
   ]
  },
  {
   "cell_type": "code",
   "execution_count": 1,
   "id": "6332663e",
   "metadata": {},
   "outputs": [],
   "source": [
    "from collections import Counter\n",
    "import numpy as np\n",
    "\n",
    "import matplotlib.pyplot as plt\n",
    "\n",
    "\n",
    "class GLC:\n",
    "\n",
    "    def __init__(self, module, multiplier, seed, increment):\n",
    "        self.modNumber = module\n",
    "        self.scalarNumber = multiplier\n",
    "        self.first = seed\n",
    "        self.constant = increment\n",
    "        self.actual = self.first\n",
    "\n",
    "    def calculate_random(self):\n",
    "        new_actual = ((self.actual * self.scalarNumber) + self.constant) % self.modNumber\n",
    "        self.actual = new_actual\n",
    "        return new_actual\n",
    "\n",
    "    def calculate_random_uniform(self):\n",
    "        return (self.calculate_random()) / self.modNumber\n",
    "\n",
    "    def calculate_multiple_random_uniform(self, iterations):\n",
    "        values = []\n",
    "        for i in range(iterations):\n",
    "            value = self.calculate_random_uniform()\n",
    "            values.append(value)\n",
    "        return values\n",
    "    \n",
    "    def calculate_multiple_random(self, iterations):\n",
    "        values = []\n",
    "        for i in range(iterations):\n",
    "            value = self.calculate_random()\n",
    "            values.append(value)\n",
    "        return values\n",
    "    \n",
    "    def calculate_multiple_random_with_range(self, iterations, _min, _max):\n",
    "        values = []\n",
    "        for i in range(iterations):\n",
    "            value = self.calculate_random() % 7\n",
    "            while (value > _max) or (_min > value):\n",
    "                value = self.calculate_random() % 7\n",
    "            values.append(value)\n",
    "        return values\n",
    "    \n",
    "    def gt_than_before(self, dic, value):\n",
    "        for i in range(value):\n",
    "            if dic[value] <  dic[i]:\n",
    "                return False\n",
    "        return True\n",
    "    \n",
    "    def smaller_than_further(self, dic, value, top):\n",
    "        for i in range(value+1, top + 1):\n",
    "            if dic[value] > dic[i]:\n",
    "                return False\n",
    "        return True\n",
    "    \n",
    "    def calculate_multiple_random_with_module(self, iterations):\n",
    "        values = []\n",
    "        dic = {0:0, 1:0, 2:0, 3:0, 4:0, 5:0, 6:0, 7:0, 8:0}\n",
    "        contador = 0\n",
    "        while (contador != iterations):\n",
    "            value = self.calculate_random()\n",
    "            if value == 0:\n",
    "                if (dic[1] >= dic[0]):\n",
    "                    values.append(value)\n",
    "                    dic[value] += 1\n",
    "                    contador += 1\n",
    "            elif value == 8:\n",
    "                if (dic[8] >= dic[7]):\n",
    "                    values.append(value)\n",
    "                    dic[value] += 1\n",
    "                    contador += 1\n",
    "            elif self.gt_than_before(dic, value) and self.smaller_than_further(dic, value, 8):\n",
    "                values.append(value)\n",
    "                dic[value] += 1\n",
    "                contador += 1\n",
    "        print(dic)\n",
    "        return values\n",
    "\n",
    "    def create_plot_uniform(self, quantity):\n",
    "        random_values = self.calculate_multiple_random_uniform(quantity)\n",
    "        num_bins = 9\n",
    "        plt.hist(random_values, num_bins, facecolor='blue', alpha=0.5, ec='black')\n",
    "        plt.show()\n",
    "    \n",
    "    def create_plot(self, quantity):\n",
    "        random_values = self.calculate_multiple_random(quantity)\n",
    "        num_bins = 10\n",
    "        plt.hist(random_values, num_bins, facecolor='blue', alpha=0.5, ec='black')\n",
    "        plt.show()\n",
    "        \n",
    "    def create_plot_with_difference(self, data):\n",
    "        _counter = Counter({2:2730, 3:5200, 4:1730, 5:480, 6:220})\n",
    "        _data_given = [2] * 2730\n",
    "        _data_given += [3] * 5200\n",
    "        _data_given += [4] * 1730\n",
    "        _data_given += [5] * 480\n",
    "        _data_given += [6] * 220\n",
    "        num_bins = 5\n",
    "        plt.figure(figsize=(8,6))\n",
    "        plt.hist(_data_given, bins=num_bins, alpha=0.5, label=\"data1\")\n",
    "        plt.hist(data, bins=num_bins, alpha=0.5, ec='black', label='data2')\n",
    "        plt.show()\n",
    "    \n",
    "    def create_counter(self, iterations, possible_numbers):\n",
    "        random_values = self.calculate_multiple_random(iterations)\n",
    "        counter = Counter(random_values)\n",
    "        if len(counter) != possible_numbers:\n",
    "            return None\n",
    "        if len(set(counter.values())) != possible_numbers:\n",
    "            return None\n",
    "        return counter\n",
    "    \n",
    "    def plot_counter(self, data):\n",
    "        density, bins, _ = plt.hist(data, density=True, bins=20)\n",
    "        count, _ = np.histogram(data, bins)\n",
    "        for x,y,num in zip(bins, density, count):\n",
    "            if num != 0:\n",
    "                plt.text(x, y+0.05, num, fontsize=10, rotation=-90) # x,y,str\n",
    "                \n",
    "    def chequear_dif(self, data):\n",
    "        counter = Counter(data)\n",
    "        for i in [2,3,4,5,6]:\n",
    "            if not i in counter.keys():\n",
    "                return 10000\n",
    "        score = abs(2730 - counter[2])\n",
    "        score += abs(5200 - counter[3])\n",
    "        score += abs(1730 - counter[4])\n",
    "        score += abs(480 - counter[5])\n",
    "        score += abs(220 - counter[6])\n",
    "        return score\n",
    "\n"
   ]
  },
  {
   "cell_type": "markdown",
   "id": "b6dceae2",
   "metadata": {},
   "source": [
    "A continuacion, se muestran distintos ejemplos con diferentes numeros de iteraciones para distribución no uniforme"
   ]
  },
  {
   "cell_type": "code",
   "execution_count": 2,
   "id": "4d0522e7",
   "metadata": {},
   "outputs": [],
   "source": [
    "_seed = (98541 + 100033 + 95282 + 94839) / 4\n",
    "glc = GLC(module=232, \n",
    "          multiplier=1013904223,\n",
    "          seed=97174, \n",
    "          increment=1664525)"
   ]
  },
  {
   "cell_type": "code",
   "execution_count": 3,
   "id": "c75a074d",
   "metadata": {},
   "outputs": [
    {
     "data": {
      "image/png": "[encoded data removed]",
      "text/plain": [
       "<Figure size 432x288 with 1 Axes>"
      ]
     },
     "metadata": {
      "needs_background": "light"
     },
     "output_type": "display_data"
    }
   ],
   "source": [
    "glc.create_plot(10000)"
   ]
  },
  {
   "cell_type": "code",
   "execution_count": 4,
   "id": "340f6f79",
   "metadata": {},
   "outputs": [
    {
     "data": {
      "image/png": "[encoded data removed]",
      "text/plain": [
       "<Figure size 432x288 with 1 Axes>"
      ]
     },
     "metadata": {
      "needs_background": "light"
     },
     "output_type": "display_data"
    }
   ],
   "source": [
    "glc.create_plot(10349)"
   ]
  },
  {
   "cell_type": "code",
   "execution_count": 5,
   "id": "808e61f9",
   "metadata": {},
   "outputs": [
    {
     "data": {
      "image/png": "[encoded data removed]",
      "text/plain": [
       "<Figure size 432x288 with 1 Axes>"
      ]
     },
     "metadata": {
      "needs_background": "light"
     },
     "output_type": "display_data"
    }
   ],
   "source": [
    "glc.create_plot(348)"
   ]
  },
  {
   "cell_type": "markdown",
   "id": "a4c6b656",
   "metadata": {},
   "source": [
    "A continuacion, se muestran distintos ejemplos con diferentes numeros de iteraciones para distribución uniforme"
   ]
  },
  {
   "cell_type": "code",
   "execution_count": 6,
   "id": "633a9d9a",
   "metadata": {},
   "outputs": [
    {
     "data": {
      "image/png": "[encoded data removed]",
      "text/plain": [
       "<Figure size 432x288 with 1 Axes>"
      ]
     },
     "metadata": {
      "needs_background": "light"
     },
     "output_type": "display_data"
    }
   ],
   "source": [
    "glc.create_plot_uniform(100000)"
   ]
  },
  {
   "cell_type": "code",
   "execution_count": 7,
   "id": "87a18817",
   "metadata": {},
   "outputs": [
    {
     "data": {
      "image/png": "[encoded data removed]",
      "text/plain": [
       "<Figure size 432x288 with 1 Axes>"
      ]
     },
     "metadata": {
      "needs_background": "light"
     },
     "output_type": "display_data"
    }
   ],
   "source": [
    "glc.create_plot_uniform(12341)"
   ]
  },
  {
   "cell_type": "code",
   "execution_count": 8,
   "id": "5c2b8703",
   "metadata": {},
   "outputs": [
    {
     "data": {
      "image/png": "[encoded data removed]",
      "text/plain": [
       "<Figure size 432x288 with 1 Axes>"
      ]
     },
     "metadata": {
      "needs_background": "light"
     },
     "output_type": "display_data"
    }
   ],
   "source": [
    "glc.create_plot_uniform(348)"
   ]
  },
  {
   "cell_type": "markdown",
   "id": "e3851cc0",
   "metadata": {},
   "source": [
    "## Ejercicio 2\n",
    "\n",
    "Dada una variable aleatoria X se generaron 10.000 muestras y se obtuvo el siguiente histograma\n",
    "\n",
    "* Utilizando el GCL implementado en el Ejercicio 1 a), desarrollar un algoritmo para generar 100.000 muestras de la variable X\n",
    "* Proponer un test para evaluar si las muestras generadas en el ítem a) siguen la distribución esperada. Considerar distintos tamaños de muestra."
   ]
  },
  {
   "cell_type": "markdown",
   "id": "6f24f461",
   "metadata": {},
   "source": [
    "### Resolución\n",
    "\n",
    "Se utiliza la misma implementación de GLC utilizada en el primer ejercicio"
   ]
  },
  {
   "cell_type": "markdown",
   "id": "d0f09344",
   "metadata": {},
   "source": [
    "Sabiendo que las reglas son\n",
    "\n",
    "* module > 0 \n",
    "* 0<multiplier<module\n",
    "* 0<=increment<module \n",
    "* 0<=seed<module"
   ]
  },
  {
   "cell_type": "code",
   "execution_count": 9,
   "id": "4f5b5736",
   "metadata": {},
   "outputs": [
    {
     "name": "stdout",
     "output_type": "stream",
     "text": [
      "11\n",
      "191\n",
      "260\n",
      "260\n"
     ]
    },
    {
     "data": {
      "image/png": "[encoded data removed]",
      "text/plain": [
       "<Figure size 576x432 with 1 Axes>"
      ]
     },
     "metadata": {
      "needs_background": "light"
     },
     "output_type": "display_data"
    }
   ],
   "source": [
    "glc = GLC(module=13, \n",
    "          multiplier=1013904223,\n",
    "          seed=97174, \n",
    "          increment=10)\n",
    "a = glc.calculate_multiple_random_with_range(10000,2, 7)\n",
    "\n",
    "def xx():\n",
    "    glc = None\n",
    "    dif = 10000\n",
    "    module = 10\n",
    "    for i in range(10, 270):\n",
    "        new_glc = GLC(module=i, multiplier=1013904223, seed=97174, increment=10)\n",
    "        data = new_glc.calculate_multiple_random_with_range(10000,2, 7)\n",
    "        new_dif = new_glc.chequear_dif(data)\n",
    "        if dif > new_dif:\n",
    "            glc = new_glc\n",
    "            dif = new_dif\n",
    "            module = i\n",
    "            print(module)\n",
    "    print(module)\n",
    "    return glc\n",
    "        \n",
    "glc = xx()\n",
    "a = glc.calculate_multiple_random_with_range(10000,2, 7)\n",
    "glc.create_plot_with_difference(a)"
   ]
  },
  {
   "cell_type": "code",
   "execution_count": 10,
   "id": "a49a5a45",
   "metadata": {},
   "outputs": [
    {
     "data": {
      "image/png": "[encoded data removed]",
      "text/plain": [
       "<Figure size 432x288 with 1 Axes>"
      ]
     },
     "metadata": {
      "needs_background": "light"
     },
     "output_type": "display_data"
    }
   ],
   "source": [
    "glc = GLC(module=260, multiplier=1013904223, seed=97174, increment=10)\n",
    "data = glc.calculate_multiple_random_with_range(100000, 2, 7)\n",
    "glc.plot_counter(data)"
   ]
  },
  {
   "cell_type": "markdown",
   "id": "b3d394fa",
   "metadata": {},
   "source": [
    "## Ejercicio 3\n",
    "\n",
    "Implementar un método para generar variables aleatorias con distribución normal de media 15 y desvío 2.\n",
    "\n",
    "* Generar 100.000 muestras, calcular la media y la varianza de la distribución obtenida y\n",
    "comparar con los valores teóricos.\n",
    "* Calcular el factor de rendimiento del método propuesto.\n",
    "* Mostrar gráficamente la distribución que siguen las muestras generadas.\n",
    "* Proponer un test para verificar si los números generados siguen la distribución pedida.\n",
    "\n",
    "### Resolución\n",
    "\n",
    "Para este ejercicio usaremos el método de Aceptación - Rechazo"
   ]
  },
  {
   "cell_type": "code",
   "execution_count": 11,
   "id": "0e054dcd",
   "metadata": {},
   "outputs": [],
   "source": [
    "import random\n",
    "import math\n",
    "from matplotlib import pyplot as plt\n",
    "from scipy.stats import norm\n",
    "from scipy.stats import chisquare\n",
    "import numpy as np"
   ]
  },
  {
   "cell_type": "markdown",
   "id": "31e41863",
   "metadata": {},
   "source": [
    "### a) Generar 100.000 muestras, calcular la media y la varianza de la distribución obtenida y comparar con los valores teóricos."
   ]
  },
  {
   "cell_type": "code",
   "execution_count": 12,
   "id": "a1cb14b4",
   "metadata": {},
   "outputs": [],
   "source": [
    "media = 15 # dato del enunciado\n",
    "desvio = 2 # dato del enunciado\n",
    "muestras = 100_000 # dato del enunciado\n",
    "c = 1.3 # es fx/fy que maximiza el cociente"
   ]
  },
  {
   "cell_type": "code",
   "execution_count": 13,
   "id": "b8473847",
   "metadata": {},
   "outputs": [],
   "source": [
    "resultados = []\n",
    "\n",
    "def cociente(t):\n",
    "    # es la division de fx/c*fy\n",
    "    return (1 / math.sqrt(2 * math.pi)) * math.exp(t - (t**2 / 2)) * 1/c\n",
    "\n",
    "for i in range(muestras):\n",
    "    t = random.expovariate(1) # muestra exponencial de media 1\n",
    "    u = random.random()\n",
    "    if u < cociente(t):\n",
    "        u2 = random.random()\n",
    "        if u2 < 0.5:\n",
    "            resultados.append(t)\n",
    "        else:\n",
    "            resultados.append(-t)"
   ]
  },
  {
   "cell_type": "code",
   "execution_count": 14,
   "id": "ada4b139",
   "metadata": {},
   "outputs": [],
   "source": [
    "# aplicamos transformacion de Normal std a lo pedido\n",
    "transformada = [r * desvio + media for r in resultados]"
   ]
  },
  {
   "cell_type": "code",
   "execution_count": 15,
   "id": "d6d3021c",
   "metadata": {},
   "outputs": [
    {
     "name": "stdout",
     "output_type": "stream",
     "text": [
      "Esperanza real: 15 - Esperanza simulada: 15.014782408811255\n",
      "Varianza real: 4 - Varianza simulada: 4.011712537807307\n"
     ]
    }
   ],
   "source": [
    "print(f'Esperanza real: {media} - Esperanza simulada: {np.mean(transformada)}')\n",
    "print(f'Varianza real: {desvio**2} - Varianza simulada: {np.var(transformada)}')\n"
   ]
  },
  {
   "cell_type": "markdown",
   "id": "eff06d60",
   "metadata": {},
   "source": [
    "### b) Calcular el factor de rendimiento del método propuesto."
   ]
  },
  {
   "attachments": {
    "image.png": {
     "image/png": "[encoded data removed]"
    }
   },
   "cell_type": "markdown",
   "id": "78a9c6c0",
   "metadata": {},
   "source": [
    "![image.png](attachment:image.png)"
   ]
  },
  {
   "cell_type": "code",
   "execution_count": 16,
   "id": "a6ff964a",
   "metadata": {},
   "outputs": [],
   "source": [
    "numeros_validos = len(transformada)"
   ]
  },
  {
   "cell_type": "code",
   "execution_count": 17,
   "id": "c2672550",
   "metadata": {},
   "outputs": [],
   "source": [
    "factor_rendimiento = numeros_validos / muestras"
   ]
  },
  {
   "cell_type": "code",
   "execution_count": 18,
   "id": "d2eda999",
   "metadata": {},
   "outputs": [
    {
     "name": "stdout",
     "output_type": "stream",
     "text": [
      "El factor de rendimiento del método propuesto es 0.38\n"
     ]
    }
   ],
   "source": [
    "print(f\"El factor de rendimiento del método propuesto es {round(factor_rendimiento, 2)}\")"
   ]
  },
  {
   "cell_type": "markdown",
   "id": "e86f91f3",
   "metadata": {},
   "source": [
    "### c) Mostrar gráficamente la distribución que siguen las muestras generadas."
   ]
  },
  {
   "cell_type": "code",
   "execution_count": 19,
   "id": "c93bc3b2",
   "metadata": {},
   "outputs": [
    {
     "data": {
      "image/png": "[encoded data removed]",
      "text/plain": [
       "<Figure size 432x288 with 1 Axes>"
      ]
     },
     "metadata": {
      "needs_background": "light"
     },
     "output_type": "display_data"
    }
   ],
   "source": [
    "# creo la normal real para plotear la curva y comparar\n",
    "x_real = np.linspace(norm.ppf(0.001, media, desvio), norm.ppf(0.999, media, desvio), 100)\n",
    "fig, ax = plt.subplots(1, 1)\n",
    "\n",
    "y_real = norm(media, desvio)\n",
    "ax.plot(x_real, y_real.pdf(x_real), 'k-', lw = 2)\n",
    "\n",
    "ax.hist(transformada, 100, density=True)\n",
    "plt.show()"
   ]
  },
  {
   "cell_type": "markdown",
   "id": "17e82748",
   "metadata": {},
   "source": [
    "### d) Proponer un test para verificar si los números generados siguen la distribución pedida."
   ]
  },
  {
   "cell_type": "markdown",
   "id": "9cf1ce3b",
   "metadata": {},
   "source": [
    "Para verificar si los numeros generados siguen la distribución pedida usaremos un test estadístico.\n",
    "El que usaremos es el método de chi^2, que justamente consiste en comparar 2 distribuciones de probabilidades:\n",
    "- una la obtuvimos simulando, la llamaremos observada\n",
    "- la otra es la que el experimento sigue, la llamaremos esperada\n",
    "\n",
    "Cuanto más chica sea la diferencia entre ambas, más podemos confirmar que siguen la distribución pedida.\n",
    "\n",
    "Además, como es una variable continua, tendremos que discretizar. Para eso tomaremos los valores del experimento truncando los decimales."
   ]
  },
  {
   "cell_type": "code",
   "execution_count": 20,
   "id": "b327d6d8",
   "metadata": {},
   "outputs": [],
   "source": [
    "freq_esperadas = [0.0001, 0.0004, 0.002, 0.0175, 0.03, 0.075, 0.10, 0.175, 0.2, 0.175, 0.10, 0.075, 0.03, 0.0175, 0.002, 0.0004, 0.0001]"
   ]
  },
  {
   "cell_type": "code",
   "execution_count": 21,
   "id": "588c2a85",
   "metadata": {},
   "outputs": [],
   "source": [
    "observados = [round(i) for i in transformada]"
   ]
  },
  {
   "cell_type": "code",
   "execution_count": 22,
   "id": "d8722755",
   "metadata": {},
   "outputs": [],
   "source": [
    "observados = [round(i) for i in observados if (i > 6 & i < 23)]"
   ]
  },
  {
   "cell_type": "code",
   "execution_count": 23,
   "id": "95ec067d",
   "metadata": {},
   "outputs": [],
   "source": [
    "cantidad_valores_distintos = len(set(observados))"
   ]
  },
  {
   "cell_type": "code",
   "execution_count": 24,
   "id": "8dc83c50",
   "metadata": {},
   "outputs": [
    {
     "data": {
      "text/plain": [
       "17"
      ]
     },
     "execution_count": 24,
     "metadata": {},
     "output_type": "execute_result"
    }
   ],
   "source": [
    "cantidad_valores_distintos"
   ]
  },
  {
   "cell_type": "code",
   "execution_count": 25,
   "id": "d5b5b689",
   "metadata": {},
   "outputs": [],
   "source": [
    "# cuento las apariciones\n",
    "# para respetar el orden posicional en la lista, le resto el mínimo\n",
    "min_value = min(observados)\n",
    "observados_count = [0 for i in range(cantidad_valores_distintos)]\n",
    "for i in observados:\n",
    "    observados_count[i - min_value] += 1"
   ]
  },
  {
   "cell_type": "code",
   "execution_count": 26,
   "id": "37c22e3f",
   "metadata": {},
   "outputs": [
    {
     "data": {
      "text/plain": [
       "17"
      ]
     },
     "execution_count": 26,
     "metadata": {},
     "output_type": "execute_result"
    }
   ],
   "source": [
    "len(observados_count)"
   ]
  },
  {
   "cell_type": "code",
   "execution_count": 27,
   "id": "f9a4ccd4",
   "metadata": {},
   "outputs": [],
   "source": [
    "cantidad = len(observados)\n",
    "freq_observados = [i/cantidad for i in observados_count]"
   ]
  },
  {
   "attachments": {
    "image.png": {
     "image/png": "[encoded data removed]"
    }
   },
   "cell_type": "markdown",
   "id": "99f24888",
   "metadata": {},
   "source": [
    "![image.png](attachment:image.png)"
   ]
  },
  {
   "cell_type": "code",
   "execution_count": 28,
   "id": "1204f617",
   "metadata": {},
   "outputs": [
    {
     "name": "stdout",
     "output_type": "stream",
     "text": [
      "0.019203454338197274\n",
      "1.0\n",
      "Las distribuciones coinciden\n"
     ]
    }
   ],
   "source": [
    "statistic, pvalue = chisquare(freq_observados, f_exp=freq_esperadas)\n",
    "\n",
    "print(statistic)\n",
    "print(pvalue)\n",
    "\n",
    "#si pvalue <= alfa entonces rechazo H0 (digo que son distintas)\n",
    "\n",
    "if pvalue <= 0.05:\n",
    "    print(\"Las distribuciones NO se parecen\")\n",
    "else:\n",
    "    print(\"Las distribuciones coinciden\")"
   ]
  },
  {
   "cell_type": "code",
   "execution_count": null,
   "id": "a3640f58",
   "metadata": {},
   "outputs": [],
   "source": []
  },
  {
   "cell_type": "markdown",
   "id": "7d5de340",
   "metadata": {},
   "source": [
    "## Ejercicio 4\n",
    "\n",
    "La llegada de vehículos a un estacionamiento sigue un proceso de Poisson de tasa λ\n",
    "vehículos/hora. En el trabajo práctico se incluye un archivo con números pseudoaleatorios que\n",
    "representan los tiempos entre arribos de dichos vehículos.\n",
    "\n",
    "* Realice una estimación de la tasa de arribos y proponga un test para evaluar si los números pseudoaleatorios provistos siguen la distribución esperada.\n",
    "* Utilizando el GCL implementado en el Ejercicio 1 a) simular la llegada de vehículos durante un mes. Graficar la cantidad de arribos en función del tiempo.\n",
    "* Generar 1000 realizaciones del proceso de Poisson para estimar las siguientes probabilidades:\n",
    "1. Probabilidad que el primer vehículo arribe antes de los 10 minutos.\n",
    "2. Probabilidad que el undécimo vehículo arribe después de los 60 minutos.\n",
    "3. Probabilidad que arriben al menos 750 vehículos antes de las 72 horas.\n",
    "Comparar con los valores teóricos."
   ]
  },
  {
   "cell_type": "code",
   "execution_count": 93,
   "id": "8be6e7af",
   "metadata": {},
   "outputs": [
    {
     "name": "stdout",
     "output_type": "stream",
     "text": [
      "Estimación en minutos: 6.067196631701471\n",
      "Poisson real de media 6.067196631701471\n"
     ]
    },
    {
     "data": {
      "image/png": "[encoded data removed]",
      "text/plain": [
       "<Figure size 432x288 with 1 Axes>"
      ]
     },
     "metadata": {
      "needs_background": "light"
     },
     "output_type": "display_data"
    },
    {
     "name": "stdout",
     "output_type": "stream",
     "text": [
      "Distribución del archivo de media 6.067196631701471\n"
     ]
    },
    {
     "data": {
      "image/png": "[encoded data removed]",
      "text/plain": [
       "<Figure size 432x288 with 1 Axes>"
      ]
     },
     "metadata": {
      "needs_background": "light"
     },
     "output_type": "display_data"
    }
   ],
   "source": [
    "# Buscamos primero el valor promedio\n",
    "def valor_promedio():    \n",
    "    with open('message.txt', 'r') as file:\n",
    "        suma = 0\n",
    "        cantidad_de_numeros = 0\n",
    "        for valor in file:\n",
    "            suma += float(valor) * 60\n",
    "            cantidad_de_numeros +=1\n",
    "        return suma / cantidad_de_numeros\n",
    "\n",
    "valor_promedio = valor_promedio()\n",
    "print(f'Estimación en minutos: {valor_promedio}')\n",
    "\n",
    "# Ahora graficamos el proceso de Poisson con el lambda obtenido\n",
    "from numpy import random\n",
    "import matplotlib.pyplot as plt\n",
    "\n",
    "print(f\"Poisson real de media {valor_promedio}\")\n",
    "poisson = random.poisson(lam=valor_promedio, size=10000)\n",
    "count, bins, ignored = plt.hist(poisson, 14, density=True)\n",
    "plt.show()\n",
    "\n",
    "# Graficamos el archivo\n",
    "\n",
    "with open('message.txt', 'r') as file:\n",
    "    file_values = []\n",
    "    for valor in file:\n",
    "        file_values.append(float(valor) * 60)\n",
    "\n",
    "print(f\"Distribución del archivo de media {valor_promedio}\")\n",
    "count, bins, ignored = plt.hist(file_values, 20, density=True)\n",
    "plt.show()\n"
   ]
  },
  {
   "cell_type": "markdown",
   "id": "08f00776",
   "metadata": {},
   "source": [
    "### Test para evaluar distribuciones"
   ]
  },
  {
   "cell_type": "markdown",
   "id": "b352f07f",
   "metadata": {},
   "source": [
    "En este caso realizaremos lo mismo que en el punto 3"
   ]
  },
  {
   "cell_type": "code",
   "execution_count": 122,
   "id": "97228e6c",
   "metadata": {},
   "outputs": [],
   "source": [
    "poisson = list(poisson)"
   ]
  },
  {
   "cell_type": "code",
   "execution_count": 123,
   "id": "2f9296dc",
   "metadata": {},
   "outputs": [
    {
     "data": {
      "text/plain": [
       "19"
      ]
     },
     "execution_count": 123,
     "metadata": {},
     "output_type": "execute_result"
    }
   ],
   "source": [
    "cantidad_valores_distintos_poisson = len(set(poisson))\n",
    "cantidad_valores_distintos_poisson"
   ]
  },
  {
   "cell_type": "code",
   "execution_count": 124,
   "id": "767f1383",
   "metadata": {},
   "outputs": [],
   "source": [
    "# cuento las apariciones\n",
    "# para respetar el orden posicional en la lista, le resto el mínimo\n",
    "min_value = min(poisson)\n",
    "count_poisson = [0 for i in range(cantidad_valores_distintos_poisson)]\n",
    "for i in poisson:\n",
    "    count_poisson[i - min_value] += 1"
   ]
  },
  {
   "cell_type": "code",
   "execution_count": 127,
   "id": "081319e6",
   "metadata": {},
   "outputs": [
    {
     "data": {
      "text/plain": [
       "10000"
      ]
     },
     "execution_count": 127,
     "metadata": {},
     "output_type": "execute_result"
    }
   ],
   "source": [
    "len(poisson)"
   ]
  },
  {
   "cell_type": "code",
   "execution_count": 128,
   "id": "a0bc8c0c",
   "metadata": {},
   "outputs": [],
   "source": [
    "cantidad = sum(count_poisson)\n",
    "freq_poisson = [i/cantidad for i in count_poisson]"
   ]
  },
  {
   "cell_type": "code",
   "execution_count": 137,
   "id": "baf458bb",
   "metadata": {},
   "outputs": [
    {
     "data": {
      "text/plain": [
       "0.9999999999999999"
      ]
     },
     "execution_count": 137,
     "metadata": {},
     "output_type": "execute_result"
    }
   ],
   "source": [
    "sum(freq_poisson)"
   ]
  },
  {
   "cell_type": "code",
   "execution_count": 130,
   "id": "d50b5bbf",
   "metadata": {},
   "outputs": [],
   "source": [
    "# discretizo los valores obtenidos desde el archivo\n",
    "file_values = [round(i) for i in file_values]"
   ]
  },
  {
   "cell_type": "code",
   "execution_count": 131,
   "id": "14a3b10e",
   "metadata": {},
   "outputs": [
    {
     "name": "stdout",
     "output_type": "stream",
     "text": [
      "0\n",
      "18\n"
     ]
    }
   ],
   "source": [
    "print(min(file_values))\n",
    "print(max(file_values))"
   ]
  },
  {
   "cell_type": "markdown",
   "id": "4939bd5b",
   "metadata": {},
   "source": [
    "En la poisson simulada, tengo valores desde el 0 hasta el 18. Para que las distribuciones sean comparables, tomo como heurística truncar los valores despues del 18.\n",
    "Otro approach que se podia tomar era agregar probabilidades muy pequeñas desde el 18 al 57 de la poisson original."
   ]
  },
  {
   "cell_type": "code",
   "execution_count": 132,
   "id": "179bd97d",
   "metadata": {},
   "outputs": [],
   "source": [
    "maximo_poisson = max(poisson)\n",
    "file_values = [i for i in file_values if (i <= maximo_poisson)]"
   ]
  },
  {
   "cell_type": "code",
   "execution_count": 133,
   "id": "5623d2c1",
   "metadata": {},
   "outputs": [
    {
     "data": {
      "text/plain": [
       "19"
      ]
     },
     "execution_count": 133,
     "metadata": {},
     "output_type": "execute_result"
    }
   ],
   "source": [
    "cantidad_valores_distintos_file = len(set(file_values))\n",
    "cantidad_valores_distintos_file"
   ]
  },
  {
   "cell_type": "code",
   "execution_count": 134,
   "id": "cf58d785",
   "metadata": {},
   "outputs": [],
   "source": [
    "# cuento las apariciones\n",
    "# para respetar el orden posicional en la lista, le resto el mínimo\n",
    "min_value = min(file_values)\n",
    "count_file = [0 for i in range(cantidad_valores_distintos_file)]\n",
    "for i in file_values:\n",
    "    count_file[i - min_value] += 1"
   ]
  },
  {
   "cell_type": "code",
   "execution_count": 135,
   "id": "88ce974f",
   "metadata": {},
   "outputs": [],
   "source": [
    "cantidad = sum(count_file)\n",
    "freq_file = [i/cantidad for i in count_file]"
   ]
  },
  {
   "cell_type": "code",
   "execution_count": 136,
   "id": "45a7c9c0",
   "metadata": {},
   "outputs": [
    {
     "data": {
      "text/plain": [
       "1.0"
      ]
     },
     "execution_count": 136,
     "metadata": {},
     "output_type": "execute_result"
    }
   ],
   "source": [
    "sum(freq_file)"
   ]
  },
  {
   "cell_type": "code",
   "execution_count": 138,
   "id": "06398c97",
   "metadata": {},
   "outputs": [
    {
     "name": "stdout",
     "output_type": "stream",
     "text": [
      "7.9594295927458205\n",
      "0.9792343554036398\n",
      "Las distribuciones coinciden\n"
     ]
    }
   ],
   "source": [
    "statistic, pvalue = chisquare(freq_file, f_exp=freq_poisson)\n",
    "\n",
    "print(statistic)\n",
    "print(pvalue)\n",
    "\n",
    "#si pvalue <= alfa entonces rechazo H0 (digo que son distintas)\n",
    "\n",
    "if pvalue <= 0.05:\n",
    "    print(\"Las distribuciones NO se parecen\")\n",
    "else:\n",
    "    print(\"Las distribuciones coinciden\")"
   ]
  },
  {
   "cell_type": "markdown",
   "id": "ab6f6e5f",
   "metadata": {},
   "source": [
    "### Simulación con GCL"
   ]
  },
  {
   "cell_type": "code",
   "execution_count": 30,
   "id": "933c3402",
   "metadata": {},
   "outputs": [
    {
     "name": "stdout",
     "output_type": "stream",
     "text": [
      "{0: 2, 1: 1, 2: 0, 3: 0, 4: 0, 5: 0, 6: 0, 7: 0, 8: 997}\n"
     ]
    },
    {
     "data": {
      "image/png": "[encoded data removed]",
      "text/plain": [
       "<Figure size 432x288 with 1 Axes>"
      ]
     },
     "metadata": {
      "needs_background": "light"
     },
     "output_type": "display_data"
    }
   ],
   "source": [
    "_seed = (98541 + 100033 + 95282 + 94839) / 4\n",
    "glc = GLC(module=9, \n",
    "          multiplier=4,\n",
    "          seed=0, \n",
    "          increment=1)\n",
    "dist = glc.calculate_multiple_random_with_module(1000)\n",
    "count, bins, ignored = plt.hist(dist, 20, density=True)\n",
    "plt.show()\n"
   ]
  },
  {
   "cell_type": "markdown",
   "id": "114d9eab",
   "metadata": {},
   "source": [
    "### Simulaciones con Poisson"
   ]
  },
  {
   "cell_type": "markdown",
   "id": "22267708",
   "metadata": {},
   "source": [
    "### 1. Probabilidad que el primer vehículo arribe antes de los 10 minutos."
   ]
  },
  {
   "cell_type": "markdown",
   "id": "d21c0217",
   "metadata": {},
   "source": [
    "Realizo 1000 veces el experimento de Poisson con media 6.06 y cuento cuantas veces el primero llega antes de los 10 minutos."
   ]
  },
  {
   "cell_type": "code",
   "execution_count": 185,
   "id": "e886a3e2",
   "metadata": {},
   "outputs": [
    {
     "name": "stdout",
     "output_type": "stream",
     "text": [
      "[SIMULACION] La probabilidad de que el primer vehiculo arribe antes de los 10 minutos es 0.907\n"
     ]
    }
   ],
   "source": [
    "lam = 6.06\n",
    "realizaciones = 1000\n",
    "limite = 10\n",
    "\n",
    "exitos = 0\n",
    "for i in range(realizaciones):\n",
    "    poisson = random.poisson(lam=lam, size=5)\n",
    "    if poisson[0] < limite:\n",
    "        exitos += 1\n",
    "\n",
    "print(f'[SIMULACION] La probabilidad de que el primer vehiculo arribe antes de los 10 minutos es {exitos/realizaciones}')"
   ]
  },
  {
   "cell_type": "code",
   "execution_count": 49,
   "id": "9f9267a6",
   "metadata": {},
   "outputs": [],
   "source": [
    "from collections import Counter\n",
    "from math import factorial, expdd\n",
    "\n",
    "lam = 6.06\n",
    "realizaciones = 1000\n",
    "limite = 10\n",
    "\n",
    "\n",
    "poisson = random.poisson(lam=lam, size=5)\n",
    "contador = 0\n",
    "for espera, repeticiones in Counter(poisson).items():\n",
    "    if espera < limite:\n",
    "        contador += repeticiones"
   ]
  },
  {
   "cell_type": "markdown",
   "id": "1544c05d",
   "metadata": {},
   "source": [
    "### 2. Probabilidad que el undécimo vehículo arribe después de los 60 minutos.\n"
   ]
  },
  {
   "cell_type": "markdown",
   "id": "5ae7d7b9",
   "metadata": {},
   "source": [
    "Realizo 1000 veces el experimento de Poisson con 11 arribos y media 6,06. Sumo el tiempo de los 11 arribos de cada realización, y cuanto cuántas de esas suman 61 o más."
   ]
  },
  {
   "cell_type": "code",
   "execution_count": 176,
   "id": "80619220",
   "metadata": {},
   "outputs": [
    {
     "name": "stdout",
     "output_type": "stream",
     "text": [
      "La probabilidad que el undécimo vehículo arribe después de los 60 minutos es 0.772\n"
     ]
    }
   ],
   "source": [
    "lam = 6.06\n",
    "realizaciones = 1000\n",
    "limite = 60\n",
    "size = 11\n",
    "\n",
    "exitos = 0\n",
    "for i in range(realizaciones):\n",
    "    poisson = random.poisson(lam=lam, size=size)\n",
    "    if sum(poisson) > limite:\n",
    "        exitos += 1\n",
    "\n",
    "print(f'[SIMULACION] La probabilidad que el undécimo vehículo arribe después de los 60 minutos es {exitos/realizaciones}')"
   ]
  },
  {
   "cell_type": "markdown",
   "id": "c4dc280e",
   "metadata": {},
   "source": [
    "### 3. Probabilidad que arriben al menos 750 vehículos antes de las 72 horas."
   ]
  },
  {
   "cell_type": "markdown",
   "id": "ed7788e1",
   "metadata": {},
   "source": [
    "Realizo 1000 veces el experimento de Poisson con 750 arribos y media 6,06. Sumo el tiempo de los 750 arribos de cada realización, y cuanto cuántas de esas suman 72 horas o menos."
   ]
  },
  {
   "cell_type": "code",
   "execution_count": 184,
   "id": "dcc5bacd",
   "metadata": {},
   "outputs": [
    {
     "name": "stdout",
     "output_type": "stream",
     "text": [
      "La probabilidad que arriben al menos 750 vehículos antes de las 72 horas es 0.0\n"
     ]
    }
   ],
   "source": [
    "lam = 6.06\n",
    "realizaciones = 1000\n",
    "limite = 60 * 72 # 60 min/hora * 72 hora\n",
    "size = 750\n",
    "\n",
    "exitos = 0\n",
    "for i in range(realizaciones):\n",
    "    poisson = random.poisson(lam=lam, size=size)\n",
    "    if sum(poisson) < limite:\n",
    "        exitos += 1\n",
    "\n",
    "print(f'[SIMULACION] La probabilidad que arriben al menos 750 vehículos antes de las 72 horas es {exitos/realizaciones}')"
   ]
  },
  {
   "cell_type": "code",
   "execution_count": null,
   "id": "9afbf5d7",
   "metadata": {},
   "outputs": [],
   "source": [
    "Para este caso, tenemos que pensar en situaciones mas chicas. Dividiendo el intervalo de tiempo en 2 segmentos, tenemos de 0 a 60, y más de 60.\n",
    "Entonces tenemos las situaciones:\n",
    "- 0 autos llegan antes de los 60 minutos, y los restantes 11 luego de los 60\n",
    "- 1 auto llega antes de los 60 minutos, y los restantes 10 luego de los 60\n",
    "- 2 autos llegan antes de los 60 minutos, y los restantes 9 luego de los 60\n",
    "- ...\n",
    "- 10 autos llegan antes de los 60 minutos, y el restante luego de los 60\n",
    "En esos 11 casos anteriores, el undecimo vehiculo arriba despues de los 60 minutos"
   ]
  },
  {
   "cell_type": "markdown",
   "id": "4f132a62",
   "metadata": {},
   "source": [
    "## Ejercicio 5\n",
    "\n",
    "Basados en el trabajo “Using Cellular Automata to Investigate Pedestrian Conflicts with Vehicles in\n",
    "Crosswalk at Signalized Intersection”, de Xiaomeng Li, Xuedong Yan, Xingang Li, y Jiangfeng Wang\n",
    "realizar lo siguiente:\n",
    "* Simular al menos 2 escenarios planteados en el trabajo y comparar sus resultados.\n",
    "* Proponer al menos 2 modificaciones a los escenarios planteados para peatones, autos, semáforos y arterias de circulación, simularlas y comparar estos resultados con los del ítem anterior.\n",
    "* Realizar los gráficos que se consideren necesarios para mostrar los resultados\n",
    "* Seleccionar un escenario de los simulados y realizar una animación."
   ]
  },
  {
   "cell_type": "code",
   "execution_count": null,
   "id": "5e4fe28b",
   "metadata": {},
   "outputs": [],
   "source": []
  },
  {
   "cell_type": "code",
   "execution_count": null,
   "id": "e7db352a",
   "metadata": {},
   "outputs": [],
   "source": []
  },
  {
   "cell_type": "code",
   "execution_count": null,
   "id": "2b2ff2e2",
   "metadata": {},
   "outputs": [],
   "source": []
  }
 ],
 "metadata": {
  "kernelspec": {
   "display_name": "Python 3 (ipykernel)",
   "language": "python",
   "name": "python3"
  },
  "language_info": {
   "codemirror_mode": {
    "name": "ipython",
    "version": 3
   },
   "file_extension": ".py",
   "mimetype": "text/x-python",
   "name": "python",
   "nbconvert_exporter": "python",
   "pygments_lexer": "ipython3",
   "version": "3.8.10"
  }
 },
 "nbformat": 4,
 "nbformat_minor": 5
}
