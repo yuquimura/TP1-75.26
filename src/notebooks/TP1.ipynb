{
 "cells": [
  {
   "cell_type": "markdown",
   "id": "7368f20d",
   "metadata": {},
   "source": [
    "# TP 1\n",
    "\n",
    "## Ejercicio 1\n",
    "Implementar un Generador Congruencial Lineal (GCL) de módulo 232 , multiplicador 1013904223,\n",
    "incremento de 1664525 y semilla igual a la parte entera del promedio de los números de padrón\n",
    "de los integrantes del grupo.\n",
    "* Modificar el GCL implementado para obtener números al azar entre 0 y 1\n",
    "* Realizar los gráficos que considere adecuados para mostrar las distribuciones de números\n",
    "al azar generados en ambos casos"
   ]
  },
  {
   "cell_type": "markdown",
   "id": "79938172",
   "metadata": {},
   "source": [
    "### Resolución\n",
    "\n",
    "El codigo anterior muestra la implementacion de un GLC propuesta por el grupo"
   ]
  },
  {
   "cell_type": "code",
   "execution_count": 4,
   "id": "6332663e",
   "metadata": {},
   "outputs": [],
   "source": [
    "from collections import Counter\n",
    "\n",
    "import matplotlib.pyplot as plt\n",
    "\n",
    "\n",
    "class GLC:\n",
    "\n",
    "    def __init__(self, module, multiplier, seed, increment):\n",
    "        self.modNumber = module\n",
    "        self.scalarNumber = multiplier\n",
    "        self.first = seed\n",
    "        self.constant = increment\n",
    "        self.actual = self.first\n",
    "\n",
    "    def calculate_random(self):\n",
    "        new_actual = ((self.actual * self.scalarNumber) + self.constant) % self.modNumber\n",
    "        self.actual = new_actual\n",
    "        return new_actual\n",
    "\n",
    "    def calculate_random_uniform(self):\n",
    "        return (self.calculate_random()) / self.modNumber\n",
    "\n",
    "    def calculate_multiple_random_uniform(self, iterations):\n",
    "        values = []\n",
    "        for i in range(iterations):\n",
    "            value = self.calculate_random_uniform()\n",
    "            values.append(value)\n",
    "        return values\n",
    "    \n",
    "    def calculate_multiple_random(self, iterations):\n",
    "        values = []\n",
    "        for i in range(iterations):\n",
    "            value = self.calculate_random()\n",
    "            values.append(value)\n",
    "        return values\n",
    "\n",
    "    def create_plot_uniform(self, quantity):\n",
    "        random_values = self.calculate_multiple_random_uniform(quantity)\n",
    "        num_bins = 9\n",
    "        plt.hist(random_values, num_bins, facecolor='blue', alpha=0.5, ec='black')\n",
    "        plt.show()\n",
    "    \n",
    "    def create_plot(self, quantity):\n",
    "        random_values = self.calculate_multiple_random(quantity)\n",
    "        num_bins = 9\n",
    "        plt.hist(random_values, num_bins, facecolor='blue', alpha=0.5, ec='black')\n",
    "        plt.show()\n",
    "    \n",
    "    def create_counter(self, iterations, possible_numbers):\n",
    "        random_values = []\n",
    "        for i in range(iterations):\n",
    "            value = self.calculate_random()\n",
    "            if value not in possible_numbers:\n",
    "                return None\n",
    "            random_values.append(value)\n",
    "        return Counter(random_values)\n",
    "\n"
   ]
  },
  {
   "cell_type": "markdown",
   "id": "b6dceae2",
   "metadata": {},
   "source": [
    "A continuacion, se muestran distintos ejemplos con diferentes numeros de iteraciones para distribución no uniforme"
   ]
  },
  {
   "cell_type": "code",
   "execution_count": null,
   "id": "4d0522e7",
   "metadata": {},
   "outputs": [],
   "source": [
    "glc = GLC(module=232, \n",
    "          multiplier=1013904223,\n",
    "          seed=(98541 + 100033 + 95282 + 94839) / 4, \n",
    "          increment=1664525)"
   ]
  },
  {
   "cell_type": "code",
   "execution_count": null,
   "id": "c75a074d",
   "metadata": {},
   "outputs": [],
   "source": [
    "glc.create_plot(100000)"
   ]
  },
  {
   "cell_type": "code",
   "execution_count": null,
   "id": "340f6f79",
   "metadata": {},
   "outputs": [],
   "source": [
    "glc.create_plot(12341)"
   ]
  },
  {
   "cell_type": "code",
   "execution_count": null,
   "id": "808e61f9",
   "metadata": {},
   "outputs": [],
   "source": [
    "glc.create_plot(348)"
   ]
  },
  {
   "cell_type": "markdown",
   "id": "a4c6b656",
   "metadata": {},
   "source": [
    "A continuacion, se muestran distintos ejemplos con diferentes numeros de iteraciones para distribución uniforme"
   ]
  },
  {
   "cell_type": "code",
   "execution_count": null,
   "id": "633a9d9a",
   "metadata": {},
   "outputs": [],
   "source": [
    "glc.create_plot_uniform(100000)"
   ]
  },
  {
   "cell_type": "code",
   "execution_count": null,
   "id": "87a18817",
   "metadata": {},
   "outputs": [],
   "source": [
    "glc.create_plot_uniform(12341)"
   ]
  },
  {
   "cell_type": "code",
   "execution_count": null,
   "id": "5c2b8703",
   "metadata": {},
   "outputs": [],
   "source": [
    "glc.create_plot_uniform(348)"
   ]
  },
  {
   "cell_type": "markdown",
   "id": "6f24f461",
   "metadata": {},
   "source": [
    "## Ejercicio 2\n",
    "\n",
    "Dada una variable aleatoria X se generaron 10.000 muestras y se obtuvo el siguiente histograma\n",
    "\n",
    "* Utilizando el GCL implementado en el Ejercicio 1 a), desarrollar un algoritmo para generar 100.000 muestras de la variable X\n",
    "* Proponer un test para evaluar si las muestras generadas en el ítem a) siguen la distribución esperada. Considerar distintos tamaños de muestra.\n",
    "\n",
    "### Resolución\n",
    "\n",
    "Se utiliza la misma implementación de GLC utilizada en el primer ejercicio"
   ]
  },
  {
   "cell_type": "markdown",
   "id": "d0f09344",
   "metadata": {},
   "source": [
    "Sabiendo que las reglas son\n",
    "\n",
    "* module > 0 \n",
    "* 0<multiplier<module\n",
    "* 0<=increment<module \n",
    "* 0<=seed<module"
   ]
  },
  {
   "cell_type": "code",
   "execution_count": 8,
   "id": "4f5b5736",
   "metadata": {},
   "outputs": [
    {
     "name": "stdout",
     "output_type": "stream",
     "text": [
      "6\n",
      "No se encontraron valores acorde\n"
     ]
    }
   ],
   "source": [
    "def xx():\n",
    "    glc_2 = None\n",
    "    possible_numbers = [2, 3, 4, 5, 6]\n",
    "    for module in range(6, 7):\n",
    "        print(module)\n",
    "        for mult in range(1, module):\n",
    "            for inc in range(0, module):\n",
    "                for seed in range(0, module):\n",
    "                    glc_test = GLC(module=module,multiplier=mult, seed=seed, increment=inc)\n",
    "                    dic_counter = glc_test.create_counter(10000, possible_numbers)\n",
    "                    if ((dic_counter is not None) and (220 in dic_counter.values())):\n",
    "                        print (f'{module},{mult},{seed},{inc}')\n",
    "                        glc_2 = glc_test\n",
    "                        return glc_2\n",
    "    return None\n",
    "\n",
    "glc_2 = xx()\n",
    "if (glc_2 is None):\n",
    "    print('No se encontraron valores acorde')\n",
    "else:\n",
    "    glc_2.create_plot(10000)"
   ]
  },
  {
   "cell_type": "code",
   "execution_count": 205,
   "id": "a49a5a45",
   "metadata": {},
   "outputs": [
    {
     "name": "stdout",
     "output_type": "stream",
     "text": [
      "0\n",
      "1\n",
      "5\n",
      "3\n",
      "4\n",
      "8\n",
      "6\n",
      "7\n",
      "2\n",
      "0\n"
     ]
    },
    {
     "data": {
      "text/plain": [
       "Counter({1: 2, 5: 1, 3: 1, 4: 1, 8: 1, 6: 1, 7: 1, 2: 1, 0: 1})"
      ]
     },
     "execution_count": 205,
     "metadata": {},
     "output_type": "execute_result"
    }
   ],
   "source": [
    "glc = GLC(module=9, multiplier=4, seed=0, increment=1)\n",
    "glc.create_counter(10)"
   ]
  },
  {
   "cell_type": "markdown",
   "id": "b3d394fa",
   "metadata": {},
   "source": [
    "## Ejercicio 3\n",
    "\n",
    "Implementar un método para generar variables aleatorias con distribución normal de media 15 y desvío 2.\n",
    "\n",
    "* Generar 100.000 muestras, calcular la media y la varianza de la distribución obtenida y\n",
    "comparar con los valores teóricos.\n",
    "* Calcular el factor de rendimiento del método propuesto.\n",
    "* Mostrar gráficamente la distribución que siguen las muestras generadas.\n",
    "* Proponer un test para verificar si los números generados siguen la distribución pedida.\n",
    "\n",
    "### Resolución\n",
    "\n",
    "Para este ejercicio usaremos el método de Aceptación - Rechazo"
   ]
  },
  {
   "cell_type": "code",
   "execution_count": 9,
   "id": "b2f4d8fe",
   "metadata": {},
   "outputs": [],
   "source": [
    "import random\n",
    "import math\n",
    "from matplotlib import pyplot as plt\n",
    "from scipy.stats import norm\n",
    "import numpy as np"
   ]
  },
  {
   "cell_type": "code",
   "execution_count": 10,
   "id": "5d56f10e",
   "metadata": {},
   "outputs": [],
   "source": [
    "media = 15 # dato del enunciado\n",
    "desvio = 2 # dato del enunciado\n",
    "muestras = 100_000 # dato del enunciado\n",
    "c = 1.3 # es fx/fy que maximiza el cociente"
   ]
  },
  {
   "cell_type": "code",
   "execution_count": 11,
   "id": "3e2fef47",
   "metadata": {},
   "outputs": [],
   "source": [
    "resultados = []\n",
    "\n",
    "def cociente(t):\n",
    "    # es la division de fx/c*fy\n",
    "    return (1 / math.sqrt(2 * math.pi)) * math.exp(t - (t**2 / 2)) * 1/c\n",
    "\n",
    "for i in range(muestras):\n",
    "    t = random.expovariate(1) # muestra exponencial de media 1\n",
    "    u = random.random()\n",
    "    if u < cociente(t):\n",
    "        u2 = random.random()\n",
    "        if u2 < 0.5:\n",
    "            resultados.append(t)\n",
    "        else:\n",
    "            resultados.append(-t)"
   ]
  },
  {
   "cell_type": "code",
   "execution_count": 12,
   "id": "9382160e",
   "metadata": {},
   "outputs": [],
   "source": [
    "# Aplicamos transformacion de Normal std a lo pedido\n",
    "transformada = [r * desvio + media for r in resultados]"
   ]
  },
  {
   "cell_type": "code",
   "execution_count": 13,
   "id": "077f1c7b",
   "metadata": {},
   "outputs": [
    {
     "name": "stdout",
     "output_type": "stream",
     "text": [
      "Esperanza real: 15 - Esperanza simulada: 15.000205037559907\n",
      "Varianza real: 4 - Varianza simulada: 3.967715968007497\n"
     ]
    }
   ],
   "source": [
    "print(f'Esperanza real: {media} - Esperanza simulada: {np.mean(transformada)}')\n",
    "print(f'Varianza real: {desvio**2} - Varianza simulada: {np.var(transformada)}')\n"
   ]
  },
  {
   "cell_type": "code",
   "execution_count": 14,
   "id": "b7960186",
   "metadata": {},
   "outputs": [
    {
     "data": {
      "image/png": "[encoded data removed]",
      "text/plain": [
       "<Figure size 432x288 with 1 Axes>"
      ]
     },
     "metadata": {
      "needs_background": "light"
     },
     "output_type": "display_data"
    }
   ],
   "source": [
    "# Creo la normal real para plotear la curva y comparar\n",
    "x_real = np.linspace(norm.ppf(0.001, media, desvio), norm.ppf(0.999, media, desvio), 100)\n",
    "fig, ax = plt.subplots(1, 1)\n",
    "\n",
    "y_real = norm(media, desvio)\n",
    "ax.plot(x_real, y_real.pdf(x_real), 'k-', lw = 2)\n",
    "\n",
    "ax.hist(transformada, 100, density=True)\n",
    "plt.show()"
   ]
  },
  {
   "cell_type": "markdown",
   "id": "efcfa2fa",
   "metadata": {},
   "source": [
    "Para verificar si los numeros generados siguen la distribución pedida se puede usar un test de frecuencia, ya que estos tests justamente buscan comprobar que los numeros generados se distribuyan siguiendo la función de probabilidad esperada."
   ]
  },
  {
   "cell_type": "code",
   "execution_count": 15,
   "id": "6178f9a1",
   "metadata": {},
   "outputs": [
    {
     "data": {
      "text/plain": [
       "[12.973061623849274,\n",
       " 14.9409163663375,\n",
       " 11.748550867897706,\n",
       " 13.624046236275033,\n",
       " 15.051232042194377,\n",
       " 14.478325058704339,\n",
       " 15.853231007070974,\n",
       " 13.65499060117974,\n",
       " 15.24932000566464,\n",
       " 14.501852706715407]"
      ]
     },
     "execution_count": 15,
     "metadata": {},
     "output_type": "execute_result"
    }
   ],
   "source": [
    "transformada[0:10]"
   ]
  },
  {
   "cell_type": "markdown",
   "id": "0b363024",
   "metadata": {},
   "source": [
    "## Ejercicio 4\n",
    "\n",
    "La llegada de vehículos a un estacionamiento sigue un proceso de Poisson de tasa λ\n",
    "vehículos/hora. En el trabajo práctico se incluye un archivo con números pseudoaleatorios que\n",
    "representan los tiempos entre arribos de dichos vehículos.\n",
    "\n",
    "* Realice una estimación de la tasa de arribos y proponga un test para evaluar si los números pseudoaleatorios provistos siguen la distribución esperada.\n",
    "* Utilizando el GCL implementado en el Ejercicio 1 a) simular la llegada de vehículos durante un mes. Graficar la cantidad de arribos en función del tiempo.\n",
    "* Generar 1000 realizaciones del proceso de Poisson para estimar las siguientes probabilidades:\n",
    "1. Probabilidad que el primer vehículo arribe antes de los 10 minutos.\n",
    "2. Probabilidad que el undécimo vehículo arribe después de los 60 minutos.\n",
    "3. Probabilidad que arriben al menos 750 vehículos antes de las 72 horas.\n",
    "Comparar con los valores teóricos."
   ]
  },
  {
   "cell_type": "markdown",
   "id": "098793a7",
   "metadata": {},
   "source": [
    "## Ejercicio 5\n",
    "\n",
    "Basados en el trabajo “Using Cellular Automata to Investigate Pedestrian Conflicts with Vehicles in\n",
    "Crosswalk at Signalized Intersection”, de Xiaomeng Li, Xuedong Yan, Xingang Li, y Jiangfeng Wang\n",
    "realizar lo siguiente:\n",
    "* Simular al menos 2 escenarios planteados en el trabajo y comparar sus resultados.\n",
    "* Proponer al menos 2 modificaciones a los escenarios planteados para peatones, autos, semáforos y arterias de circulación, simularlas y comparar estos resultados con los del ítem anterior.\n",
    "* Realizar los gráficos que se consideren necesarios para mostrar los resultados\n",
    "* "
   ]
  },
  {
   "cell_type": "code",
   "execution_count": null,
   "id": "af4f5d2f",
   "metadata": {},
   "outputs": [],
   "source": []
  }
 ],
 "metadata": {
  "kernelspec": {
   "display_name": "Python 3 (ipykernel)",
   "language": "python",
   "name": "python3"
  },
  "language_info": {
   "codemirror_mode": {
    "name": "ipython",
    "version": 3
   },
   "file_extension": ".py",
   "mimetype": "text/x-python",
   "name": "python",
   "nbconvert_exporter": "python",
   "pygments_lexer": "ipython3",
   "version": "3.8.10"
  }
 },
 "nbformat": 4,
 "nbformat_minor": 5
}
