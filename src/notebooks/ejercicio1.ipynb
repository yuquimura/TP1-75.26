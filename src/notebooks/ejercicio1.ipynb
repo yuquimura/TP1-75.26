{
 "cells": [
  {
   "cell_type": "markdown",
   "id": "e83f7deb",
   "metadata": {},
   "source": [
    "# Ejercicio 1\n",
    "\n",
    "## Enunciado\n",
    "Implementar un Generador Congruencial Lineal (GCL) de módulo 2 32 , multiplicador 1013904223,\n",
    "incremento de 1664525 y semilla igual a la parte entera del promedio de los números de padrón\n",
    "de los integrantes del grupo.\n",
    "* Modificar el GCL implementado para obtener números al azar entre 0 y 1\n",
    "* Realizar los gráficos que considere adecuados para mostrar las distribuciones de números\n",
    "al azar generados en ambos casos"
   ]
  },
  {
   "cell_type": "markdown",
   "id": "b2c26a7b",
   "metadata": {},
   "source": [
    "## Resolución\n",
    "\n",
    "El codigo anterior muestra la implementacion de un GLC propuesta por el grupo"
   ]
  },
  {
   "cell_type": "code",
   "execution_count": 22,
   "id": "c0da555b",
   "metadata": {},
   "outputs": [],
   "source": [
    "from collections import Counter\n",
    "\n",
    "import matplotlib.pyplot as plt\n",
    "\n",
    "\n",
    "class GLC:\n",
    "\n",
    "    def __init__(self, module, multiplier, seed, increment):\n",
    "        self.modNumber = module\n",
    "        self.scalarNumber = multiplier\n",
    "        self.first = seed\n",
    "        self.constant = increment\n",
    "        self.actual = self.first\n",
    "\n",
    "    def calculate_random(self):\n",
    "        new_actual = (self.actual * self.scalarNumber + self.constant) % self.modNumber\n",
    "        self.actual = new_actual\n",
    "        return new_actual\n",
    "\n",
    "    def calculate_random_uniform(self):\n",
    "        return (self.calculate_random()) / self.modNumber\n",
    "\n",
    "    def calculate_multiple_random_uniform(self, iterations):\n",
    "        values = []\n",
    "        for i in range(iterations):\n",
    "            value = self.calculate_random_uniform()\n",
    "            values.append(value)\n",
    "        return values\n",
    "    \n",
    "    def calculate_multiple_random(self, iterations):\n",
    "        values = []\n",
    "        for i in range(iterations):\n",
    "            value = self.calculate_random()\n",
    "            values.append(value)\n",
    "        return values\n",
    "\n",
    "    def create_plot_uniform(self, quantity):\n",
    "        random_values = self.calculate_multiple_random_uniform(quantity)\n",
    "        num_bins = 9\n",
    "        plt.hist(random_values, num_bins, facecolor='blue', alpha=0.5, ec='black')\n",
    "        plt.show()\n",
    "    \n",
    "    def create_plot(self, quantity):\n",
    "        random_values = self.calculate_multiple_random(quantity)\n",
    "        num_bins = 9\n",
    "        plt.hist(random_values, num_bins, facecolor='blue', alpha=0.5, ec='black')\n",
    "        plt.show()\n",
    "\n"
   ]
  },
  {
   "cell_type": "markdown",
   "id": "de9cbc37",
   "metadata": {},
   "source": [
    "A continuacion, se muestran distintos ejemplos con diferentes numeros de iteraciones para distribución no uniforme"
   ]
  },
  {
   "cell_type": "code",
   "execution_count": 23,
   "id": "fa8f69f3",
   "metadata": {},
   "outputs": [],
   "source": [
    "glc = GLC(module=232, \n",
    "          multiplier=1013904223,\n",
    "          seed=(98541 + 100033 + 95282 + 94839) / 4, \n",
    "          increment=1664525)"
   ]
  },
  {
   "cell_type": "code",
   "execution_count": 24,
   "id": "36333fa2",
   "metadata": {},
   "outputs": [
    {
     "data": {
      "image/png": "[encoded data removed]",
      "text/plain": [
       "<Figure size 432x288 with 1 Axes>"
      ]
     },
     "metadata": {
      "needs_background": "light"
     },
     "output_type": "display_data"
    }
   ],
   "source": [
    "glc.create_plot(100000)"
   ]
  },
  {
   "cell_type": "code",
   "execution_count": 25,
   "id": "6c68dcb7",
   "metadata": {},
   "outputs": [
    {
     "data": {
      "image/png": "[encoded data removed]",
      "text/plain": [
       "<Figure size 432x288 with 1 Axes>"
      ]
     },
     "metadata": {
      "needs_background": "light"
     },
     "output_type": "display_data"
    }
   ],
   "source": [
    "glc.create_plot(12341)"
   ]
  },
  {
   "cell_type": "code",
   "execution_count": 26,
   "id": "978408d2",
   "metadata": {},
   "outputs": [
    {
     "data": {
      "image/png": "[encoded data removed]",
      "text/plain": [
       "<Figure size 432x288 with 1 Axes>"
      ]
     },
     "metadata": {
      "needs_background": "light"
     },
     "output_type": "display_data"
    }
   ],
   "source": [
    "glc.create_plot(348)"
   ]
  },
  {
   "cell_type": "code",
   "execution_count": null,
   "id": "9bbbed77",
   "metadata": {},
   "outputs": [],
   "source": []
  }
 ],
 "metadata": {
  "kernelspec": {
   "display_name": "Python 3 (ipykernel)",
   "language": "python",
   "name": "python3"
  },
  "language_info": {
   "codemirror_mode": {
    "name": "ipython",
    "version": 3
   },
   "file_extension": ".py",
   "mimetype": "text/x-python",
   "name": "python",
   "nbconvert_exporter": "python",
   "pygments_lexer": "ipython3",
   "version": "3.8.10"
  }
 },
 "nbformat": 4,
 "nbformat_minor": 5
}
