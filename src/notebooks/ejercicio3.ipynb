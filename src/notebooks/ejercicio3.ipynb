{
 "cells": [
  {
   "cell_type": "code",
   "execution_count": 1,
   "id": "0e054dcd",
   "metadata": {},
   "outputs": [],
   "source": [
    "import random\n",
    "import math\n",
    "from matplotlib import pyplot as plt\n",
    "from scipy.stats import norm\n",
    "import numpy as np"
   ]
  },
  {
   "cell_type": "markdown",
   "id": "bf0c5abc",
   "metadata": {},
   "source": [
    "Para este ejercicio usaremos el método de Aceptación - Rechazo"
   ]
  },
  {
   "cell_type": "code",
   "execution_count": 2,
   "id": "a1cb14b4",
   "metadata": {},
   "outputs": [],
   "source": [
    "media = 15 # dato del enunciado\n",
    "desvio = 2 # dato del enunciado\n",
    "muestras = 100_000 # dato del enunciado\n",
    "c = 1.3 # es fx/fy que maximiza el cociente"
   ]
  },
  {
   "cell_type": "code",
   "execution_count": 3,
   "id": "b8473847",
   "metadata": {},
   "outputs": [],
   "source": [
    "resultados = []\n",
    "\n",
    "def cociente(t):\n",
    "    # es la division de fx/c*fy\n",
    "    return (1 / math.sqrt(2 * math.pi)) * math.exp(t - (t**2 / 2)) * 1/c\n",
    "\n",
    "for i in range(muestras):\n",
    "    t = random.expovariate(1) # muestra exponencial de media 1\n",
    "    u = random.random()\n",
    "    if u < cociente(t):\n",
    "        u2 = random.random()\n",
    "        if u2 < 0.5:\n",
    "            resultados.append(t)\n",
    "        else:\n",
    "            resultados.append(-t)"
   ]
  },
  {
   "cell_type": "code",
   "execution_count": 4,
   "id": "ada4b139",
   "metadata": {},
   "outputs": [],
   "source": [
    "# aplicamos transformacion de Normal std a lo pedido\n",
    "transformada = [r * desvio + media for r in resultados]"
   ]
  },
  {
   "cell_type": "code",
   "execution_count": 5,
   "id": "d6d3021c",
   "metadata": {},
   "outputs": [
    {
     "name": "stdout",
     "output_type": "stream",
     "text": [
      "Esperanza real: 15 - Esperanza simulada: 15.00429740565675\n",
      "Varianza real: 4 - Varianza simulada: 3.997152484896918\n"
     ]
    }
   ],
   "source": [
    "print(f'Esperanza real: {media} - Esperanza simulada: {np.mean(transformada)}')\n",
    "print(f'Varianza real: {desvio**2} - Varianza simulada: {np.var(transformada)}')\n"
   ]
  },
  {
   "cell_type": "code",
   "execution_count": 6,
   "id": "c93bc3b2",
   "metadata": {},
   "outputs": [
    {
     "data": {
      "image/png": "[encoded data removed]",
      "text/plain": [
       "<Figure size 432x288 with 1 Axes>"
      ]
     },
     "metadata": {
      "needs_background": "light"
     },
     "output_type": "display_data"
    }
   ],
   "source": [
    "# creo la normal real para plotear la curva y comparar\n",
    "x_real = np.linspace(norm.ppf(0.001, media, desvio), norm.ppf(0.999, media, desvio), 100)\n",
    "fig, ax = plt.subplots(1, 1)\n",
    "\n",
    "y_real = norm(media, desvio)\n",
    "ax.plot(x_real, y_real.pdf(x_real), 'k-', lw = 2)\n",
    "\n",
    "ax.hist(transformada, 100, density=True)\n",
    "plt.show()"
   ]
  },
  {
   "cell_type": "markdown",
   "id": "9cf1ce3b",
   "metadata": {},
   "source": [
    "Para verificar si los numeros generados siguen la distribución pedida se puede usar un test de frecuencia, ya que estos tests justamente buscan comprobar que los numeros generados se distribuyan siguiendo la función de probabilidad esperada."
   ]
  },
  {
   "cell_type": "code",
   "execution_count": 9,
   "id": "95ec067d",
   "metadata": {},
   "outputs": [
    {
     "data": {
      "text/plain": [
       "[13.432844083022523,\n",
       " 16.424534394423418,\n",
       " 16.38400766756955,\n",
       " 14.32243189305854,\n",
       " 17.423057448239124,\n",
       " 15.546269576429959,\n",
       " 17.289122654895053,\n",
       " 10.718426514664145,\n",
       " 12.399608559735746,\n",
       " 13.709554966411863]"
      ]
     },
     "execution_count": 9,
     "metadata": {},
     "output_type": "execute_result"
    }
   ],
   "source": [
    "transformada[0:10]"
   ]
  },
  {
   "cell_type": "code",
   "execution_count": null,
   "id": "1204f617",
   "metadata": {},
   "outputs": [],
   "source": []
  }
 ],
 "metadata": {
  "kernelspec": {
   "display_name": "Python 3 (ipykernel)",
   "language": "python",
   "name": "python3"
  },
  "language_info": {
   "codemirror_mode": {
    "name": "ipython",
    "version": 3
   },
   "file_extension": ".py",
   "mimetype": "text/x-python",
   "name": "python",
   "nbconvert_exporter": "python",
   "pygments_lexer": "ipython3",
   "version": "3.8.10"
  }
 },
 "nbformat": 4,
 "nbformat_minor": 5
}
