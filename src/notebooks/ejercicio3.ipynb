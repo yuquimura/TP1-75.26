{
 "cells": [
  {
   "cell_type": "code",
   "execution_count": 1,
   "id": "c4908338",
   "metadata": {},
   "outputs": [],
   "source": [
    "import random\n",
    "import math\n",
    "from matplotlib import pyplot as plt\n",
    "from scipy.stats import norm\n",
    "import numpy as np"
   ]
  },
  {
   "cell_type": "markdown",
   "id": "ae033a28",
   "metadata": {},
   "source": [
    "Para este ejercicio usaremos el método de Aceptación - Rechazo"
   ]
  },
  {
   "cell_type": "code",
   "execution_count": 5,
   "id": "f5ad77f3",
   "metadata": {},
   "outputs": [],
   "source": [
    "media = 15 # dato del enunciado\n",
    "desvio = 2 # dato del enunciado\n",
    "muestras = 100_000 # dato del enunciado\n",
    "c = 1.3 # es fx/fy que maximiza el cociente"
   ]
  },
  {
   "cell_type": "code",
   "execution_count": 9,
   "id": "f58146bb",
   "metadata": {},
   "outputs": [],
   "source": [
    "resultados = []\n",
    "\n",
    "def cociente(t):\n",
    "    # es la division de fx/c*fy\n",
    "    return (1 / math.sqrt(2 * math.pi)) * math.exp(t - (t**2 / 2)) * 1/c\n",
    "\n",
    "for i in range(muestras):\n",
    "    t = random.expovariate(1) # muestra exponencial de media 1\n",
    "    u = random.random()\n",
    "    if u < cociente(t):\n",
    "        u2 = random.random()\n",
    "        if u2 < 0.5:\n",
    "            resultados.append(t)\n",
    "        else:\n",
    "            resultados.append(-t)"
   ]
  },
  {
   "cell_type": "code",
   "execution_count": 19,
   "id": "ae7f7dcd",
   "metadata": {},
   "outputs": [],
   "source": [
    "# aplicamos transformacion de Normal std a lo pedido\n",
    "transformada = [r*desvio + media for r in resultados]"
   ]
  },
  {
   "cell_type": "code",
   "execution_count": 20,
   "id": "77ebeadf",
   "metadata": {},
   "outputs": [
    {
     "data": {
      "image/png": "[encoded data removed]",
      "text/plain": [
       "<Figure size 432x288 with 1 Axes>"
      ]
     },
     "metadata": {
      "needs_background": "light"
     },
     "output_type": "display_data"
    }
   ],
   "source": [
    "# creo la normal real para plotear la curva y comparar\n",
    "x_real = np.linspace(norm.ppf(0.001, media, desvio), norm.ppf(0.999, media, desvio), 100)\n",
    "fig, ax = plt.subplots(1, 1)\n",
    "\n",
    "y_real = norm(media, desvio)\n",
    "ax.plot(x_real, y_real.pdf(x_real), 'k-', lw = 2)\n",
    "\n",
    "ax.hist(transformada, 100, density=True)\n",
    "plt.show()"
   ]
  },
  {
   "cell_type": "code",
   "execution_count": 24,
   "id": "bfe7135d",
   "metadata": {},
   "outputs": [
    {
     "name": "stdout",
     "output_type": "stream",
     "text": [
      "Esperanza simulada: 14.993968403809198 - Varianza simulada: 4.056795975857348\n",
      "Esperanza real: 15 - Varianza real: 4\n"
     ]
    }
   ],
   "source": [
    "print(f'Esperanza simulada: {np.mean(transformada)} - Varianza simulada: {np.var(transformada)}')\n",
    "print(f'Esperanza real: {media} - Varianza real: {desvio**2}')\n"
   ]
  },
  {
   "cell_type": "code",
   "execution_count": null,
   "id": "ab67a440",
   "metadata": {},
   "outputs": [],
   "source": []
  }
 ],
 "metadata": {
  "kernelspec": {
   "display_name": "Python 3 (ipykernel)",
   "language": "python",
   "name": "python3"
  },
  "language_info": {
   "codemirror_mode": {
    "name": "ipython",
    "version": 3
   },
   "file_extension": ".py",
   "mimetype": "text/x-python",
   "name": "python",
   "nbconvert_exporter": "python",
   "pygments_lexer": "ipython3",
   "version": "3.8.10"
  }
 },
 "nbformat": 4,
 "nbformat_minor": 5
}
