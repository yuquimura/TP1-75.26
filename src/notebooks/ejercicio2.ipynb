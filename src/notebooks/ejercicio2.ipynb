{
 "cells": [
  {
   "cell_type": "markdown",
   "id": "df11f6ef",
   "metadata": {},
   "source": [
    "# Ejercicio 2\n",
    "\n",
    "## Enunciado\n",
    "\n",
    "Dada una variable aleatoria X se generaron 10.000 muestras y se obtuvo el siguiente histograma\n",
    "\n",
    "* Utilizando el GCL implementado en el Ejercicio 1 a), desarrollar un algoritmo para generar 100.000 muestras de la variable X\n",
    "* Proponer un test para evaluar si las muestras generadas en el ítem a) siguen la distribución esperada. Considerar distintos tamaños de muestra."
   ]
  },
  {
   "cell_type": "code",
   "execution_count": 1,
   "id": "15ed4d3e",
   "metadata": {},
   "outputs": [],
   "source": [
    "from collections import Counter\n",
    "\n",
    "import matplotlib.pyplot as plt\n",
    "\n",
    "\n",
    "class GLC:\n",
    "    def __init__(self, m, a, u, c):\n",
    "        self.modNumber = m\n",
    "        self.scalarNumber = a\n",
    "        self.first = u\n",
    "        self.constant = c\n",
    "        self.actual = self.first\n",
    "\n",
    "    def calculate_random(self):\n",
    "        new_actual = (self.actual * self.scalarNumber + self.constant) % self.modNumber\n",
    "        self.actual = new_actual\n",
    "        return new_actual\n",
    "\n",
    "    def calculate_random_uniform(self):\n",
    "        return (self.calculate_random()) / self.modNumber\n",
    "\n",
    "    def calculate_multiple_random_uniform(self, iterations):\n",
    "        values = []\n",
    "        for i in range(iterations):\n",
    "            value = self.calculate_random_uniform()\n",
    "            values.append(value)\n",
    "        return values\n",
    "\n",
    "    def create_plot(self, quantity):\n",
    "        random_values = self.calculate_multiple_random_uniform(quantity)\n",
    "        num_bins = 9\n",
    "        plt.hist(random_values, num_bins, facecolor='blue', alpha=0.5, ec='black')\n",
    "        plt.show()"
   ]
  },
  {
   "cell_type": "code",
   "execution_count": 4,
   "id": "811eef63",
   "metadata": {},
   "outputs": [],
   "source": [
    "glc = GLC(9, 4, 0, 1)"
   ]
  },
  {
   "cell_type": "code",
   "execution_count": 5,
   "id": "708892db",
   "metadata": {},
   "outputs": [
    {
     "data": {
      "image/png": "[encoded data removed]",
      "text/plain": [
       "<Figure size 432x288 with 1 Axes>"
      ]
     },
     "metadata": {
      "needs_background": "light"
     },
     "output_type": "display_data"
    }
   ],
   "source": [
    "# \n",
    "glc.create_plot(10000)"
   ]
  },
  {
   "cell_type": "code",
   "execution_count": 6,
   "id": "8f1bc0ce",
   "metadata": {},
   "outputs": [
    {
     "data": {
      "image/png": "[encoded data removed]",
      "text/plain": [
       "<Figure size 432x288 with 1 Axes>"
      ]
     },
     "metadata": {
      "needs_background": "light"
     },
     "output_type": "display_data"
    }
   ],
   "source": [
    "glc.create_plot(1000)"
   ]
  },
  {
   "cell_type": "code",
   "execution_count": 7,
   "id": "506eae03",
   "metadata": {},
   "outputs": [
    {
     "data": {
      "image/png": "[encoded data removed]",
      "text/plain": [
       "<Figure size 432x288 with 1 Axes>"
      ]
     },
     "metadata": {
      "needs_background": "light"
     },
     "output_type": "display_data"
    }
   ],
   "source": [
    "glc.create_plot(100)"
   ]
  },
  {
   "cell_type": "code",
   "execution_count": 8,
   "id": "845ec959",
   "metadata": {},
   "outputs": [],
   "source": [
    "glc_2 = GLC(79, 1, 1, 1)"
   ]
  },
  {
   "cell_type": "code",
   "execution_count": 9,
   "id": "945ccf89",
   "metadata": {},
   "outputs": [
    {
     "data": {
      "image/png": "[encoded data removed]",
      "text/plain": [
       "<Figure size 432x288 with 1 Axes>"
      ]
     },
     "metadata": {
      "needs_background": "light"
     },
     "output_type": "display_data"
    }
   ],
   "source": [
    "glc_2.create_plot(10)"
   ]
  },
  {
   "cell_type": "code",
   "execution_count": 10,
   "id": "9ac6073d",
   "metadata": {},
   "outputs": [
    {
     "data": {
      "image/png": "[encoded data removed]",
      "text/plain": [
       "<Figure size 432x288 with 1 Axes>"
      ]
     },
     "metadata": {
      "needs_background": "light"
     },
     "output_type": "display_data"
    }
   ],
   "source": [
    "glc_2.create_plot(100)"
   ]
  },
  {
   "cell_type": "code",
   "execution_count": null,
   "id": "749ee4e8",
   "metadata": {},
   "outputs": [],
   "source": []
  }
 ],
 "metadata": {
  "kernelspec": {
   "display_name": "Python 3 (ipykernel)",
   "language": "python",
   "name": "python3"
  },
  "language_info": {
   "codemirror_mode": {
    "name": "ipython",
    "version": 3
   },
   "file_extension": ".py",
   "mimetype": "text/x-python",
   "name": "python",
   "nbconvert_exporter": "python",
   "pygments_lexer": "ipython3",
   "version": "3.8.10"
  }
 },
 "nbformat": 4,
 "nbformat_minor": 5
}
